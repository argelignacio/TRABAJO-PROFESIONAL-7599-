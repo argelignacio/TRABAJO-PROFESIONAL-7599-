{
 "cells": [
  {
   "cell_type": "code",
   "execution_count": 26,
   "metadata": {},
   "outputs": [],
   "source": [
    "import pandas as pd\n"
   ]
  },
  {
   "cell_type": "code",
   "execution_count": 27,
   "metadata": {},
   "outputs": [],
   "source": [
    "def filtrar_por_fecha(input_csv, output_csv, campo_fecha, fecha_inicio, fecha_fin):\n",
    "    df = pd.read_csv(input_csv)\n",
    "    df[campo_fecha] = pd.to_datetime(df[campo_fecha], format='%Y-%m-%d %H:%M:%S %Z')\n",
    "    filtro_fechas = (df[campo_fecha] >= fecha_inicio) & (df[campo_fecha] <= fecha_fin)\n",
    "    df_filtrado = df[filtro_fechas]\n",
    "    df_filtrado.to_csv(output_csv, index=False)"
   ]
  },
  {
   "cell_type": "code",
   "execution_count": 40,
   "metadata": {},
   "outputs": [
    {
     "name": "stdout",
     "output_type": "stream",
     "text": [
      "Datos filtrados exportados a '2022-05-25.csv'\n",
      "Datos filtrados exportados a '2022-05-26.csv'\n",
      "Datos filtrados exportados a '2022-05-27.csv'\n",
      "Datos filtrados exportados a '2022-05-28.csv'\n",
      "Datos filtrados exportados a '2022-05-29.csv'\n"
     ]
    }
   ],
   "source": [
    "archivo_entrada = '2022-05-08_2022-05-16.csv'\n",
    "for i in range(25, 32):\n",
    "    if i < 10:\n",
    "        fecha_inicio = f'2022-05-0{i}'\n",
    "        fecha_fin = f'2022-05-0{i} 23:59:59 UTC'\n",
    "    else:\n",
    "        fecha_inicio = f'2022-05-{i}'\n",
    "        fecha_fin = f'2022-05-{i} 23:59:59 UTC'\n",
    "    archivo_salida = f'{fecha_inicio}.csv'\n",
    "    fecha_inicio += ' 00:00:00 UTC'\n",
    "    # Llamar a la función para filtrar y exportar\n",
    "    filtrar_por_fecha(archivo_entrada, archivo_salida, 'block_timestamp', fecha_inicio, fecha_fin)\n",
    "    print(f\"Datos filtrados exportados a '{archivo_salida}'\")"
   ]
  }
 ],
 "metadata": {
  "kernelspec": {
   "display_name": "Python 3",
   "language": "python",
   "name": "python3"
  },
  "language_info": {
   "codemirror_mode": {
    "name": "ipython",
    "version": 3
   },
   "file_extension": ".py",
   "mimetype": "text/x-python",
   "name": "python",
   "nbconvert_exporter": "python",
   "pygments_lexer": "ipython3",
   "version": "3.10.12"
  }
 },
 "nbformat": 4,
 "nbformat_minor": 2
}
