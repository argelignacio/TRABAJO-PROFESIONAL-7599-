{
 "cells": [
  {
   "cell_type": "code",
   "execution_count": 2,
   "metadata": {},
   "outputs": [],
   "source": [
    "import pandas as pd"
   ]
  },
  {
   "cell_type": "code",
   "execution_count": 3,
   "metadata": {},
   "outputs": [],
   "source": [
    "def filtrar_por_fecha(input_csv, output_csv, campo_fecha, fecha_inicio, fecha_fin):\n",
    "    df = pd.read_csv(input_csv)\n",
    "    df[campo_fecha] = pd.to_datetime(df[campo_fecha], format='%Y-%m-%d %H:%M:%S %Z')\n",
    "    filtro_fechas = (df[campo_fecha] >= fecha_inicio) & (df[campo_fecha] <= fecha_fin)\n",
    "    df_filtrado = df[filtro_fechas]\n",
    "    df_filtrado.to_csv(output_csv, index=False)"
   ]
  },
  {
   "cell_type": "code",
   "execution_count": 4,
   "metadata": {},
   "outputs": [
    {
     "name": "stdout",
     "output_type": "stream",
     "text": [
      "Datos filtrados exportados a '2023-05-01.csv'\n",
      "Datos filtrados exportados a '2023-05-02.csv'\n",
      "Datos filtrados exportados a '2023-05-03.csv'\n",
      "Datos filtrados exportados a '2023-05-04.csv'\n",
      "Datos filtrados exportados a '2023-05-05.csv'\n",
      "Datos filtrados exportados a '2023-05-06.csv'\n",
      "Datos filtrados exportados a '2023-05-07.csv'\n",
      "Datos filtrados exportados a '2023-05-08.csv'\n",
      "Datos filtrados exportados a '2023-05-09.csv'\n",
      "Datos filtrados exportados a '2023-05-10.csv'\n",
      "Datos filtrados exportados a '2023-05-11.csv'\n",
      "Datos filtrados exportados a '2023-05-12.csv'\n",
      "Datos filtrados exportados a '2023-05-13.csv'\n",
      "Datos filtrados exportados a '2023-05-14.csv'\n",
      "Datos filtrados exportados a '2023-05-15.csv'\n",
      "Datos filtrados exportados a '2023-05-16.csv'\n",
      "Datos filtrados exportados a '2023-05-17.csv'\n",
      "Datos filtrados exportados a '2023-05-18.csv'\n",
      "Datos filtrados exportados a '2023-05-19.csv'\n",
      "Datos filtrados exportados a '2023-05-20.csv'\n",
      "Datos filtrados exportados a '2023-05-21.csv'\n",
      "Datos filtrados exportados a '2023-05-22.csv'\n",
      "Datos filtrados exportados a '2023-05-23.csv'\n",
      "Datos filtrados exportados a '2023-05-24.csv'\n",
      "Datos filtrados exportados a '2023-05-25.csv'\n",
      "Datos filtrados exportados a '2023-05-26.csv'\n",
      "Datos filtrados exportados a '2023-05-27.csv'\n",
      "Datos filtrados exportados a '2023-05-28.csv'\n",
      "Datos filtrados exportados a '2023-05-29.csv'\n",
      "Datos filtrados exportados a '2023-05-30.csv'\n",
      "Datos filtrados exportados a '2023-05-31.csv'\n"
     ]
    }
   ],
   "source": [
    "archivo_entrada = [\n",
    "    (1, 8, 'mayo/01.csv'),\n",
    "    (8, 15, 'mayo/02.csv'),\n",
    "    (15, 23, 'mayo/03.csv'),\n",
    "    (23, 32, 'mayo/04.csv')\n",
    "    # (1, 8, 'junio/01.csv'),\n",
    "    # (8, 15, 'junio/02.csv'),\n",
    "    # (15, 22, 'junio/03.csv'),\n",
    "    # (22, 31, 'junio/04.csv')\n",
    "    # (1, 8, 'julio/05.csv'),\n",
    "    # (8, 15, 'julio/06.csv'),\n",
    "    # (15, 22, 'julio/07.csv'),\n",
    "    # (22, 32, 'julio/08.csv')\n",
    "]\n",
    "year = \"2023\"\n",
    "month = \"05\"\n",
    "for start, end, file in archivo_entrada:\n",
    "    for i in range(start, end):\n",
    "        if i < 10:\n",
    "            fecha_inicio = f'{year}-{month}-0{i}'\n",
    "            fecha_fin = f'{year}-{month}-0{i} 23:59:59 UTC'\n",
    "        else:\n",
    "            fecha_inicio = f'{year}-{month}-{i}'\n",
    "            fecha_fin = f'{year}-{month}-{i} 23:59:59 UTC'\n",
    "        archivo_salida = f'{fecha_inicio}.csv'\n",
    "        fecha_inicio += ' 00:00:00 UTC'\n",
    "        # Llamar a la función para filtrar y exportar\n",
    "        filtrar_por_fecha(file, archivo_salida, 'block_timestamp', fecha_inicio, fecha_fin)\n",
    "        print(f\"Datos filtrados exportados a '{archivo_salida}'\")"
   ]
  }
 ],
 "metadata": {
  "kernelspec": {
   "display_name": "Python 3",
   "language": "python",
   "name": "python3"
  },
  "language_info": {
   "codemirror_mode": {
    "name": "ipython",
    "version": 3
   },
   "file_extension": ".py",
   "mimetype": "text/x-python",
   "name": "python",
   "nbconvert_exporter": "python",
   "pygments_lexer": "ipython3",
   "version": "3.12.1"
  }
 },
 "nbformat": 4,
 "nbformat_minor": 2
}
