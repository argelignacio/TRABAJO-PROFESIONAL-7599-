{
 "cells": [
  {
   "cell_type": "code",
   "execution_count": 2,
   "metadata": {},
   "outputs": [
    {
     "ename": "ImportError",
     "evalue": "/home/ignacioargel/.cache/pypoetry/virtualenvs/pow_a_pos-Du1pSIFd-py3.9/lib/python3.9/site-packages/_infomap.cpython-39-x86_64-linux-gnu.so: undefined symbol: _ZSt28__throw_bad_array_new_lengthv",
     "output_type": "error",
     "traceback": [
      "\u001b[0;31m---------------------------------------------------------------------------\u001b[0m",
      "\u001b[0;31mImportError\u001b[0m                               Traceback (most recent call last)",
      "Cell \u001b[0;32mIn[2], line 3\u001b[0m\n\u001b[1;32m      1\u001b[0m \u001b[38;5;28;01mimport\u001b[39;00m \u001b[38;5;21;01mpandas\u001b[39;00m \u001b[38;5;28;01mas\u001b[39;00m \u001b[38;5;21;01mpd\u001b[39;00m\n\u001b[1;32m      2\u001b[0m \u001b[38;5;28;01mimport\u001b[39;00m \u001b[38;5;21;01mnetworkx\u001b[39;00m \u001b[38;5;28;01mas\u001b[39;00m \u001b[38;5;21;01mnx\u001b[39;00m\n\u001b[0;32m----> 3\u001b[0m \u001b[38;5;28;01mimport\u001b[39;00m \u001b[38;5;21;01minfomap\u001b[39;00m\n",
      "File \u001b[0;32m~/.cache/pypoetry/virtualenvs/pow_a_pos-Du1pSIFd-py3.9/lib/python3.9/site-packages/infomap.py:35\u001b[0m\n\u001b[1;32m     33\u001b[0m     \u001b[38;5;28;01mfrom\u001b[39;00m \u001b[38;5;21;01m.\u001b[39;00m \u001b[38;5;28;01mimport\u001b[39;00m _infomap\n\u001b[1;32m     34\u001b[0m \u001b[38;5;28;01melse\u001b[39;00m:\n\u001b[0;32m---> 35\u001b[0m     \u001b[38;5;28;01mimport\u001b[39;00m \u001b[38;5;21;01m_infomap\u001b[39;00m\n\u001b[1;32m     37\u001b[0m \u001b[38;5;28;01mtry\u001b[39;00m:\n\u001b[1;32m     38\u001b[0m     \u001b[38;5;28;01mimport\u001b[39;00m \u001b[38;5;21;01mbuiltins\u001b[39;00m \u001b[38;5;28;01mas\u001b[39;00m \u001b[38;5;21;01m__builtin__\u001b[39;00m\n",
      "\u001b[0;31mImportError\u001b[0m: /home/ignacioargel/.cache/pypoetry/virtualenvs/pow_a_pos-Du1pSIFd-py3.9/lib/python3.9/site-packages/_infomap.cpython-39-x86_64-linux-gnu.so: undefined symbol: _ZSt28__throw_bad_array_new_lengthv"
     ]
    }
   ],
   "source": [
    "import pandas as pd\n",
    "import networkx as nx\n",
    "import infomap\n"
   ]
  },
  {
   "cell_type": "code",
   "execution_count": 3,
   "metadata": {},
   "outputs": [],
   "source": [
    "df = pd.read_csv('/home/ignacioargel/Documents/tpp/fake_graph.csv')"
   ]
  },
  {
   "cell_type": "code",
   "execution_count": 4,
   "metadata": {},
   "outputs": [],
   "source": [
    "grafo = nx.from_pandas_edgelist(df, 'from_address', 'to_address')"
   ]
  },
  {
   "cell_type": "code",
   "execution_count": 6,
   "metadata": {},
   "outputs": [],
   "source": [
    "asd = nx.community.louvain.louvain_communities(grafo)"
   ]
  },
  {
   "cell_type": "code",
   "execution_count": 8,
   "metadata": {},
   "outputs": [
    {
     "data": {
      "text/plain": [
       "6"
      ]
     },
     "execution_count": 8,
     "metadata": {},
     "output_type": "execute_result"
    }
   ],
   "source": [
    "len(asd)"
   ]
  },
  {
   "cell_type": "code",
   "execution_count": null,
   "metadata": {},
   "outputs": [],
   "source": [
    "def matchea(a,b,lista):\n",
    "    for set_act in lista:\n",
    "        if a in set_act and b in set_act:\n",
    "            return 1\n",
    "        else:\n",
    "            return 0"
   ]
  },
  {
   "cell_type": "code",
   "execution_count": 10,
   "metadata": {},
   "outputs": [
    {
     "data": {
      "text/html": [
       "<div>\n",
       "<style scoped>\n",
       "    .dataframe tbody tr th:only-of-type {\n",
       "        vertical-align: middle;\n",
       "    }\n",
       "\n",
       "    .dataframe tbody tr th {\n",
       "        vertical-align: top;\n",
       "    }\n",
       "\n",
       "    .dataframe thead th {\n",
       "        text-align: right;\n",
       "    }\n",
       "</style>\n",
       "<table border=\"1\" class=\"dataframe\">\n",
       "  <thead>\n",
       "    <tr style=\"text-align: right;\">\n",
       "      <th></th>\n",
       "      <th>from_address</th>\n",
       "      <th>to_address</th>\n",
       "      <th>cluster_from</th>\n",
       "      <th>cluster_to</th>\n",
       "      <th>block_timestamp</th>\n",
       "      <th>value</th>\n",
       "    </tr>\n",
       "  </thead>\n",
       "  <tbody>\n",
       "    <tr>\n",
       "      <th>0</th>\n",
       "      <td>9752d761-9b6b-4bfe-8802-94940e6d175f</td>\n",
       "      <td>de75bbd5-aff3-40f8-94ec-70875e93584b</td>\n",
       "      <td>0</td>\n",
       "      <td>0</td>\n",
       "      <td>1</td>\n",
       "      <td>478.956381</td>\n",
       "    </tr>\n",
       "    <tr>\n",
       "      <th>1</th>\n",
       "      <td>e70392de-ff1e-4a4b-b394-72ab6c2c23d5</td>\n",
       "      <td>57f4055c-2bf6-4779-93e2-e1336d5fb1df</td>\n",
       "      <td>2</td>\n",
       "      <td>2</td>\n",
       "      <td>1</td>\n",
       "      <td>319.069901</td>\n",
       "    </tr>\n",
       "    <tr>\n",
       "      <th>2</th>\n",
       "      <td>eedfad6b-bde5-429b-bf9c-98f7c6744c9a</td>\n",
       "      <td>a38419ce-f06b-483a-9316-0f750baa984b</td>\n",
       "      <td>1</td>\n",
       "      <td>1</td>\n",
       "      <td>1</td>\n",
       "      <td>97.598808</td>\n",
       "    </tr>\n",
       "    <tr>\n",
       "      <th>3</th>\n",
       "      <td>edf729c0-d982-4421-8082-2aa8696e3018</td>\n",
       "      <td>f1c21249-9c67-4713-b554-2f715a19bee7</td>\n",
       "      <td>3</td>\n",
       "      <td>3</td>\n",
       "      <td>1</td>\n",
       "      <td>705.494612</td>\n",
       "    </tr>\n",
       "    <tr>\n",
       "      <th>4</th>\n",
       "      <td>94268a50-42ef-44e8-b391-cc92d581bd80</td>\n",
       "      <td>4ce2c241-9f6f-4f94-b111-d6dfbc75f361</td>\n",
       "      <td>0</td>\n",
       "      <td>0</td>\n",
       "      <td>1</td>\n",
       "      <td>716.875471</td>\n",
       "    </tr>\n",
       "    <tr>\n",
       "      <th>...</th>\n",
       "      <td>...</td>\n",
       "      <td>...</td>\n",
       "      <td>...</td>\n",
       "      <td>...</td>\n",
       "      <td>...</td>\n",
       "      <td>...</td>\n",
       "    </tr>\n",
       "    <tr>\n",
       "      <th>8988</th>\n",
       "      <td>85f958af-a3db-4915-bd86-6c396a1aa54b</td>\n",
       "      <td>cd331af1-51bf-49e2-a173-2a072ca5fb05</td>\n",
       "      <td>4</td>\n",
       "      <td>4</td>\n",
       "      <td>1</td>\n",
       "      <td>541.547434</td>\n",
       "    </tr>\n",
       "    <tr>\n",
       "      <th>8989</th>\n",
       "      <td>0ca5ef08-aadf-4c94-9fd2-d1d8c37965be</td>\n",
       "      <td>8c6fc2a5-08a0-4d69-9c93-095104aed444</td>\n",
       "      <td>0</td>\n",
       "      <td>0</td>\n",
       "      <td>1</td>\n",
       "      <td>106.429590</td>\n",
       "    </tr>\n",
       "    <tr>\n",
       "      <th>8994</th>\n",
       "      <td>2a28789a-7c4e-47c2-89b4-4170249847e4</td>\n",
       "      <td>a3a6f6b4-22a0-4f5b-a7e1-d196c7fe870b</td>\n",
       "      <td>1</td>\n",
       "      <td>1</td>\n",
       "      <td>1</td>\n",
       "      <td>406.618845</td>\n",
       "    </tr>\n",
       "    <tr>\n",
       "      <th>8995</th>\n",
       "      <td>94ab844d-46b3-49fa-b989-c9941217c9b6</td>\n",
       "      <td>4e19431b-ecc8-4884-a7c2-7638f02e214b</td>\n",
       "      <td>2</td>\n",
       "      <td>2</td>\n",
       "      <td>1</td>\n",
       "      <td>162.954102</td>\n",
       "    </tr>\n",
       "    <tr>\n",
       "      <th>8999</th>\n",
       "      <td>edf729c0-d982-4421-8082-2aa8696e3018</td>\n",
       "      <td>26958d67-b611-486b-ae7f-3f0acd10614c</td>\n",
       "      <td>3</td>\n",
       "      <td>3</td>\n",
       "      <td>1</td>\n",
       "      <td>99.654967</td>\n",
       "    </tr>\n",
       "  </tbody>\n",
       "</table>\n",
       "<p>5753 rows × 6 columns</p>\n",
       "</div>"
      ],
      "text/plain": [
       "                              from_address  \\\n",
       "0     9752d761-9b6b-4bfe-8802-94940e6d175f   \n",
       "1     e70392de-ff1e-4a4b-b394-72ab6c2c23d5   \n",
       "2     eedfad6b-bde5-429b-bf9c-98f7c6744c9a   \n",
       "3     edf729c0-d982-4421-8082-2aa8696e3018   \n",
       "4     94268a50-42ef-44e8-b391-cc92d581bd80   \n",
       "...                                    ...   \n",
       "8988  85f958af-a3db-4915-bd86-6c396a1aa54b   \n",
       "8989  0ca5ef08-aadf-4c94-9fd2-d1d8c37965be   \n",
       "8994  2a28789a-7c4e-47c2-89b4-4170249847e4   \n",
       "8995  94ab844d-46b3-49fa-b989-c9941217c9b6   \n",
       "8999  edf729c0-d982-4421-8082-2aa8696e3018   \n",
       "\n",
       "                                to_address  cluster_from  cluster_to  \\\n",
       "0     de75bbd5-aff3-40f8-94ec-70875e93584b             0           0   \n",
       "1     57f4055c-2bf6-4779-93e2-e1336d5fb1df             2           2   \n",
       "2     a38419ce-f06b-483a-9316-0f750baa984b             1           1   \n",
       "3     f1c21249-9c67-4713-b554-2f715a19bee7             3           3   \n",
       "4     4ce2c241-9f6f-4f94-b111-d6dfbc75f361             0           0   \n",
       "...                                    ...           ...         ...   \n",
       "8988  cd331af1-51bf-49e2-a173-2a072ca5fb05             4           4   \n",
       "8989  8c6fc2a5-08a0-4d69-9c93-095104aed444             0           0   \n",
       "8994  a3a6f6b4-22a0-4f5b-a7e1-d196c7fe870b             1           1   \n",
       "8995  4e19431b-ecc8-4884-a7c2-7638f02e214b             2           2   \n",
       "8999  26958d67-b611-486b-ae7f-3f0acd10614c             3           3   \n",
       "\n",
       "      block_timestamp       value  \n",
       "0                   1  478.956381  \n",
       "1                   1  319.069901  \n",
       "2                   1   97.598808  \n",
       "3                   1  705.494612  \n",
       "4                   1  716.875471  \n",
       "...               ...         ...  \n",
       "8988                1  541.547434  \n",
       "8989                1  106.429590  \n",
       "8994                1  406.618845  \n",
       "8995                1  162.954102  \n",
       "8999                1   99.654967  \n",
       "\n",
       "[5753 rows x 6 columns]"
      ]
     },
     "execution_count": 10,
     "metadata": {},
     "output_type": "execute_result"
    }
   ],
   "source": [
    "df[df['cluster_from'] == df['cluster_to']].apply(lambda x: x.from_address)"
   ]
  },
  {
   "cell_type": "code",
   "execution_count": null,
   "metadata": {},
   "outputs": [],
   "source": []
  }
 ],
 "metadata": {
  "kernelspec": {
   "display_name": "pow_a_pos-Du1pSIFd-py3.9",
   "language": "python",
   "name": "python3"
  },
  "language_info": {
   "codemirror_mode": {
    "name": "ipython",
    "version": 3
   },
   "file_extension": ".py",
   "mimetype": "text/x-python",
   "name": "python",
   "nbconvert_exporter": "python",
   "pygments_lexer": "ipython3",
   "version": "3.9.5"
  }
 },
 "nbformat": 4,
 "nbformat_minor": 2
}
