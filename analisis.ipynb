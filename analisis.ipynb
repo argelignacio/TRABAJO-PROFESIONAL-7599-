{
 "cells": [
  {
   "cell_type": "code",
   "execution_count": 1,
   "id": "e70864ac",
   "metadata": {},
   "outputs": [],
   "source": [
    "import pandas as pd\n",
    "import numpy as np"
   ]
  },
  {
   "cell_type": "code",
   "execution_count": 2,
   "id": "f30b3518",
   "metadata": {},
   "outputs": [],
   "source": [
    "primeros = pd.read_csv('01052023-03052023.csv')"
   ]
  },
  {
   "cell_type": "code",
   "execution_count": 3,
   "id": "9985cfc8",
   "metadata": {},
   "outputs": [
    {
     "data": {
      "text/html": [
       "<div>\n",
       "<style scoped>\n",
       "    .dataframe tbody tr th:only-of-type {\n",
       "        vertical-align: middle;\n",
       "    }\n",
       "\n",
       "    .dataframe tbody tr th {\n",
       "        vertical-align: top;\n",
       "    }\n",
       "\n",
       "    .dataframe thead th {\n",
       "        text-align: right;\n",
       "    }\n",
       "</style>\n",
       "<table border=\"1\" class=\"dataframe\">\n",
       "  <thead>\n",
       "    <tr style=\"text-align: right;\">\n",
       "      <th></th>\n",
       "      <th>from_address</th>\n",
       "      <th>to_address</th>\n",
       "    </tr>\n",
       "  </thead>\n",
       "  <tbody>\n",
       "    <tr>\n",
       "      <th>0</th>\n",
       "      <td>0xc5f62ed23fb755d2b89c2372bf21ee711e4db3b4</td>\n",
       "      <td>0xc02aaa39b223fe8d0a0e5c4f27ead9083c756cc2</td>\n",
       "    </tr>\n",
       "    <tr>\n",
       "      <th>1</th>\n",
       "      <td>0x446c964931199815c012e344f8482b292ce1b20d</td>\n",
       "      <td>0x00000000a50bb64b4bbeceb18715748dface08af</td>\n",
       "    </tr>\n",
       "    <tr>\n",
       "      <th>2</th>\n",
       "      <td>0x74cda7f19676192518cde477cea87d31fa372c8b</td>\n",
       "      <td>0x886fcc25107c79c6ccb3bd41ed9b3c6e11d15f57</td>\n",
       "    </tr>\n",
       "    <tr>\n",
       "      <th>3</th>\n",
       "      <td>0x34e5eeab1a034e5e1f31d3c2fa227ca47d5c5c04</td>\n",
       "      <td>0x7a250d5630b4cf539739df2c5dacb4c659f2488d</td>\n",
       "    </tr>\n",
       "    <tr>\n",
       "      <th>4</th>\n",
       "      <td>0xc098b2a3aa256d2140208c3de6543aaef5cd3a94</td>\n",
       "      <td>0x08362ece65cd169d7c86ab46c525713ce75b9e32</td>\n",
       "    </tr>\n",
       "    <tr>\n",
       "      <th>...</th>\n",
       "      <td>...</td>\n",
       "      <td>...</td>\n",
       "    </tr>\n",
       "    <tr>\n",
       "      <th>2266847</th>\n",
       "      <td>0xa8aecca1dd0c27802c3243c8d754f224f6f057c8</td>\n",
       "      <td>0x33c26b56bda4bfa7ea889c92b80a1176b97d98a6</td>\n",
       "    </tr>\n",
       "    <tr>\n",
       "      <th>2266848</th>\n",
       "      <td>0x3ca737fa7dd3ba1c146595aa462a50a55f7f1ef1</td>\n",
       "      <td>0xdc24316b9ae028f1497c275eb9192a3ea0f67022</td>\n",
       "    </tr>\n",
       "    <tr>\n",
       "      <th>2266849</th>\n",
       "      <td>0x1cbabbaef4fcac7a239bad0a2e92cddfe69dcf3e</td>\n",
       "      <td>0xc9677cd8e9652f1b1aadd3429769b0ef8d7a0425</td>\n",
       "    </tr>\n",
       "    <tr>\n",
       "      <th>2266850</th>\n",
       "      <td>0x4e258cc6180e73a69bb0ce18621c8901aed3b792</td>\n",
       "      <td>0x283af0b28c62c092c9727f1ee09c02ca627eb7f5</td>\n",
       "    </tr>\n",
       "    <tr>\n",
       "      <th>2266851</th>\n",
       "      <td>0x308ba2c956e6c96e47b491393dd98359015f0068</td>\n",
       "      <td>0x333853a7ff34931e816a99471412bd83bef31188</td>\n",
       "    </tr>\n",
       "  </tbody>\n",
       "</table>\n",
       "<p>2266852 rows × 2 columns</p>\n",
       "</div>"
      ],
      "text/plain": [
       "                                       from_address  \\\n",
       "0        0xc5f62ed23fb755d2b89c2372bf21ee711e4db3b4   \n",
       "1        0x446c964931199815c012e344f8482b292ce1b20d   \n",
       "2        0x74cda7f19676192518cde477cea87d31fa372c8b   \n",
       "3        0x34e5eeab1a034e5e1f31d3c2fa227ca47d5c5c04   \n",
       "4        0xc098b2a3aa256d2140208c3de6543aaef5cd3a94   \n",
       "...                                             ...   \n",
       "2266847  0xa8aecca1dd0c27802c3243c8d754f224f6f057c8   \n",
       "2266848  0x3ca737fa7dd3ba1c146595aa462a50a55f7f1ef1   \n",
       "2266849  0x1cbabbaef4fcac7a239bad0a2e92cddfe69dcf3e   \n",
       "2266850  0x4e258cc6180e73a69bb0ce18621c8901aed3b792   \n",
       "2266851  0x308ba2c956e6c96e47b491393dd98359015f0068   \n",
       "\n",
       "                                         to_address  \n",
       "0        0xc02aaa39b223fe8d0a0e5c4f27ead9083c756cc2  \n",
       "1        0x00000000a50bb64b4bbeceb18715748dface08af  \n",
       "2        0x886fcc25107c79c6ccb3bd41ed9b3c6e11d15f57  \n",
       "3        0x7a250d5630b4cf539739df2c5dacb4c659f2488d  \n",
       "4        0x08362ece65cd169d7c86ab46c525713ce75b9e32  \n",
       "...                                             ...  \n",
       "2266847  0x33c26b56bda4bfa7ea889c92b80a1176b97d98a6  \n",
       "2266848  0xdc24316b9ae028f1497c275eb9192a3ea0f67022  \n",
       "2266849  0xc9677cd8e9652f1b1aadd3429769b0ef8d7a0425  \n",
       "2266850  0x283af0b28c62c092c9727f1ee09c02ca627eb7f5  \n",
       "2266851  0x333853a7ff34931e816a99471412bd83bef31188  \n",
       "\n",
       "[2266852 rows x 2 columns]"
      ]
     },
     "execution_count": 3,
     "metadata": {},
     "output_type": "execute_result"
    }
   ],
   "source": [
    "primeros[['from_address', 'to_address']]"
   ]
  },
  {
   "cell_type": "code",
   "execution_count": 4,
   "id": "39e8b4b7",
   "metadata": {},
   "outputs": [],
   "source": [
    "out_degres = primeros['from_address'].value_counts()"
   ]
  },
  {
   "cell_type": "code",
   "execution_count": 5,
   "id": "9cf2a824",
   "metadata": {},
   "outputs": [
    {
     "data": {
      "text/plain": [
       "582791"
      ]
     },
     "execution_count": 5,
     "metadata": {},
     "output_type": "execute_result"
    }
   ],
   "source": [
    "len(out_degres)"
   ]
  },
  {
   "cell_type": "code",
   "execution_count": 6,
   "id": "b078ef57",
   "metadata": {},
   "outputs": [],
   "source": [
    "in_degres = primeros['to_address'].value_counts()"
   ]
  },
  {
   "cell_type": "code",
   "execution_count": 7,
   "id": "17d96025",
   "metadata": {},
   "outputs": [
    {
     "data": {
      "text/plain": [
       "517174"
      ]
     },
     "execution_count": 7,
     "metadata": {},
     "output_type": "execute_result"
    }
   ],
   "source": [
    "len(in_degres)"
   ]
  },
  {
   "cell_type": "code",
   "execution_count": 8,
   "id": "fae42dd0",
   "metadata": {},
   "outputs": [
    {
     "data": {
      "text/plain": [
       "5827.91"
      ]
     },
     "execution_count": 8,
     "metadata": {},
     "output_type": "execute_result"
    }
   ],
   "source": [
    "len(out_degres) * 0.01"
   ]
  },
  {
   "cell_type": "code",
   "execution_count": 9,
   "id": "4293da9c",
   "metadata": {},
   "outputs": [
    {
     "data": {
      "text/plain": [
       "39.0"
      ]
     },
     "execution_count": 9,
     "metadata": {},
     "output_type": "execute_result"
    }
   ],
   "source": [
    "np.percentile(out_degres, 99.5)"
   ]
  },
  {
   "cell_type": "code",
   "execution_count": 10,
   "id": "ff4839a6",
   "metadata": {},
   "outputs": [
    {
     "data": {
      "text/plain": [
       "29.0"
      ]
     },
     "execution_count": 10,
     "metadata": {},
     "output_type": "execute_result"
    }
   ],
   "source": [
    "np.percentile(in_degres, 99.5)"
   ]
  },
  {
   "cell_type": "code",
   "execution_count": 11,
   "id": "d656e938",
   "metadata": {},
   "outputs": [
    {
     "name": "stderr",
     "output_type": "stream",
     "text": [
      "<frozen importlib._bootstrap>:228: RuntimeWarning: scipy._lib.messagestream.MessageStream size changed, may indicate binary incompatibility. Expected 56 from C header, got 64 from PyObject\n"
     ]
    }
   ],
   "source": [
    "import seaborn as sns"
   ]
  },
  {
   "cell_type": "code",
   "execution_count": 12,
   "id": "cbd4dc04",
   "metadata": {},
   "outputs": [
    {
     "data": {
      "text/plain": [
       "0.1418689883591871"
      ]
     },
     "execution_count": 12,
     "metadata": {},
     "output_type": "execute_result"
    }
   ],
   "source": [
    "np.sum(out_degres[:25]) / np.sum(out_degres)"
   ]
  },
  {
   "cell_type": "code",
   "execution_count": 13,
   "id": "29477334",
   "metadata": {},
   "outputs": [
    {
     "data": {
      "text/plain": [
       "0.4433025862829906"
      ]
     },
     "execution_count": 13,
     "metadata": {},
     "output_type": "execute_result"
    }
   ],
   "source": [
    "np.sum(in_degres[:25]) / np.sum(in_degres)"
   ]
  },
  {
   "cell_type": "code",
   "execution_count": 17,
   "id": "e278bc30",
   "metadata": {},
   "outputs": [],
   "source": [
    "set_picantes = set(in_degres[:25].index).union(set(out_degres[:25].index))\n"
   ]
  },
  {
   "cell_type": "code",
   "execution_count": 15,
   "id": "a2cf777d",
   "metadata": {},
   "outputs": [
    {
     "data": {
      "text/plain": [
       "48"
      ]
     },
     "execution_count": 15,
     "metadata": {},
     "output_type": "execute_result"
    }
   ],
   "source": [
    "len(set_picantes)"
   ]
  },
  {
   "cell_type": "code",
   "execution_count": 16,
   "id": "563976ca",
   "metadata": {},
   "outputs": [
    {
     "data": {
      "text/plain": [
       "0.00015891408707167687"
      ]
     },
     "execution_count": 16,
     "metadata": {},
     "output_type": "execute_result"
    }
   ],
   "source": [
    "len(set_picantes)/ len(set(in_degres.index).intersection(set(out_degres.index)))"
   ]
  },
  {
   "cell_type": "code",
   "execution_count": 19,
   "id": "b98aa8f8",
   "metadata": {},
   "outputs": [],
   "source": [
    "sin_picantes = primeros[~((primeros[\"from_address\"].isin(set_picantes)) | (primeros[\"to_address\"].isin(set_picantes))) ]"
   ]
  },
  {
   "cell_type": "code",
   "execution_count": 24,
   "id": "01c17730",
   "metadata": {},
   "outputs": [
    {
     "data": {
      "text/html": [
       "<div>\n",
       "<style scoped>\n",
       "    .dataframe tbody tr th:only-of-type {\n",
       "        vertical-align: middle;\n",
       "    }\n",
       "\n",
       "    .dataframe tbody tr th {\n",
       "        vertical-align: top;\n",
       "    }\n",
       "\n",
       "    .dataframe thead th {\n",
       "        text-align: right;\n",
       "    }\n",
       "</style>\n",
       "<table border=\"1\" class=\"dataframe\">\n",
       "  <thead>\n",
       "    <tr style=\"text-align: right;\">\n",
       "      <th></th>\n",
       "      <th>block_timestamp</th>\n",
       "      <th>nonce</th>\n",
       "      <th>from_address</th>\n",
       "      <th>to_address</th>\n",
       "      <th>value</th>\n",
       "      <th>value_lossless</th>\n",
       "      <th>gas</th>\n",
       "      <th>gas_price</th>\n",
       "      <th>max_fee_per_gas</th>\n",
       "      <th>max_priority_fee_per_gas</th>\n",
       "      <th>transaction_type</th>\n",
       "    </tr>\n",
       "  </thead>\n",
       "  <tbody>\n",
       "    <tr>\n",
       "      <th>1</th>\n",
       "      <td>2022-05-02 22:57:48 UTC</td>\n",
       "      <td>85</td>\n",
       "      <td>0x446c964931199815c012e344f8482b292ce1b20d</td>\n",
       "      <td>0x00000000a50bb64b4bbeceb18715748dface08af</td>\n",
       "      <td>1680000000000000000</td>\n",
       "      <td>1680000000000000000</td>\n",
       "      <td>210692</td>\n",
       "      <td>77296474263</td>\n",
       "      <td>1.500000e+11</td>\n",
       "      <td>1.650000e+09</td>\n",
       "      <td>2</td>\n",
       "    </tr>\n",
       "    <tr>\n",
       "      <th>2</th>\n",
       "      <td>2022-05-02 22:57:48 UTC</td>\n",
       "      <td>1</td>\n",
       "      <td>0x74cda7f19676192518cde477cea87d31fa372c8b</td>\n",
       "      <td>0x886fcc25107c79c6ccb3bd41ed9b3c6e11d15f57</td>\n",
       "      <td>26176193391976478</td>\n",
       "      <td>26176193391976478</td>\n",
       "      <td>21000</td>\n",
       "      <td>82096486314</td>\n",
       "      <td>8.209649e+10</td>\n",
       "      <td>8.209649e+10</td>\n",
       "      <td>2</td>\n",
       "    </tr>\n",
       "    <tr>\n",
       "      <th>9</th>\n",
       "      <td>2022-05-02 22:58:21 UTC</td>\n",
       "      <td>754</td>\n",
       "      <td>0xedce70709dafae5f7723ea3eb8ab554babbbeb4f</td>\n",
       "      <td>0x0f905a23c916642fff85fb8d0f874b3e2ba5be37</td>\n",
       "      <td>0</td>\n",
       "      <td>0</td>\n",
       "      <td>51131</td>\n",
       "      <td>94853238920</td>\n",
       "      <td>9.485324e+10</td>\n",
       "      <td>9.485324e+10</td>\n",
       "      <td>2</td>\n",
       "    </tr>\n",
       "    <tr>\n",
       "      <th>10</th>\n",
       "      <td>2022-05-02 22:58:35 UTC</td>\n",
       "      <td>46492</td>\n",
       "      <td>0x867bfa133d64fad734c89f886d2a169b6504ab2b</td>\n",
       "      <td>0x0bc2af32468de8d7af2e9823340b1a0df073cf05</td>\n",
       "      <td>22109160000000000</td>\n",
       "      <td>22109160000000000</td>\n",
       "      <td>50000</td>\n",
       "      <td>69952490554</td>\n",
       "      <td>9.990000e+11</td>\n",
       "      <td>2.001000e+09</td>\n",
       "      <td>2</td>\n",
       "    </tr>\n",
       "    <tr>\n",
       "      <th>11</th>\n",
       "      <td>2022-05-02 22:58:35 UTC</td>\n",
       "      <td>88</td>\n",
       "      <td>0xd57d890650bc8c5ae63eca7c85b40f022d126416</td>\n",
       "      <td>0x4bfce5a1acc3b847afa9579ba91da33b08e66fb7</td>\n",
       "      <td>0</td>\n",
       "      <td>0</td>\n",
       "      <td>54290</td>\n",
       "      <td>69891490554</td>\n",
       "      <td>9.610506e+10</td>\n",
       "      <td>1.940000e+09</td>\n",
       "      <td>2</td>\n",
       "    </tr>\n",
       "    <tr>\n",
       "      <th>...</th>\n",
       "      <td>...</td>\n",
       "      <td>...</td>\n",
       "      <td>...</td>\n",
       "      <td>...</td>\n",
       "      <td>...</td>\n",
       "      <td>...</td>\n",
       "      <td>...</td>\n",
       "      <td>...</td>\n",
       "      <td>...</td>\n",
       "      <td>...</td>\n",
       "      <td>...</td>\n",
       "    </tr>\n",
       "    <tr>\n",
       "      <th>2266846</th>\n",
       "      <td>2022-05-02 05:40:15 UTC</td>\n",
       "      <td>110</td>\n",
       "      <td>0x461db1953c8b44a60e50151fa1095fffaf17da9d</td>\n",
       "      <td>0xe5678f7560b15a2fe5907197109b6b9686033a50</td>\n",
       "      <td>10000000000000000</td>\n",
       "      <td>10000000000000000</td>\n",
       "      <td>21000</td>\n",
       "      <td>43842116081</td>\n",
       "      <td>4.384212e+10</td>\n",
       "      <td>1.410000e+09</td>\n",
       "      <td>2</td>\n",
       "    </tr>\n",
       "    <tr>\n",
       "      <th>2266847</th>\n",
       "      <td>2022-05-02 09:24:03 UTC</td>\n",
       "      <td>2</td>\n",
       "      <td>0xa8aecca1dd0c27802c3243c8d754f224f6f057c8</td>\n",
       "      <td>0x33c26b56bda4bfa7ea889c92b80a1176b97d98a6</td>\n",
       "      <td>120000000000000000</td>\n",
       "      <td>120000000000000000</td>\n",
       "      <td>21000</td>\n",
       "      <td>38066841312</td>\n",
       "      <td>3.933748e+10</td>\n",
       "      <td>1.410000e+09</td>\n",
       "      <td>2</td>\n",
       "    </tr>\n",
       "    <tr>\n",
       "      <th>2266848</th>\n",
       "      <td>2022-05-02 10:11:31 UTC</td>\n",
       "      <td>0</td>\n",
       "      <td>0x3ca737fa7dd3ba1c146595aa462a50a55f7f1ef1</td>\n",
       "      <td>0xdc24316b9ae028f1497c275eb9192a3ea0f67022</td>\n",
       "      <td>25000000000000000000</td>\n",
       "      <td>25000000000000000000</td>\n",
       "      <td>235248</td>\n",
       "      <td>51157888495</td>\n",
       "      <td>5.197078e+10</td>\n",
       "      <td>1.410000e+09</td>\n",
       "      <td>2</td>\n",
       "    </tr>\n",
       "    <tr>\n",
       "      <th>2266849</th>\n",
       "      <td>2022-05-02 11:19:47 UTC</td>\n",
       "      <td>66</td>\n",
       "      <td>0x1cbabbaef4fcac7a239bad0a2e92cddfe69dcf3e</td>\n",
       "      <td>0xc9677cd8e9652f1b1aadd3429769b0ef8d7a0425</td>\n",
       "      <td>0</td>\n",
       "      <td>0</td>\n",
       "      <td>46197</td>\n",
       "      <td>63532444163</td>\n",
       "      <td>6.521231e+10</td>\n",
       "      <td>1.410000e+09</td>\n",
       "      <td>2</td>\n",
       "    </tr>\n",
       "    <tr>\n",
       "      <th>2266851</th>\n",
       "      <td>2022-05-02 08:06:23 UTC</td>\n",
       "      <td>8</td>\n",
       "      <td>0x308ba2c956e6c96e47b491393dd98359015f0068</td>\n",
       "      <td>0x333853a7ff34931e816a99471412bd83bef31188</td>\n",
       "      <td>0</td>\n",
       "      <td>0</td>\n",
       "      <td>71638</td>\n",
       "      <td>43119503034</td>\n",
       "      <td>4.436346e+10</td>\n",
       "      <td>1.410000e+09</td>\n",
       "      <td>2</td>\n",
       "    </tr>\n",
       "  </tbody>\n",
       "</table>\n",
       "<p>968862 rows × 11 columns</p>\n",
       "</div>"
      ],
      "text/plain": [
       "                 block_timestamp  nonce  \\\n",
       "1        2022-05-02 22:57:48 UTC     85   \n",
       "2        2022-05-02 22:57:48 UTC      1   \n",
       "9        2022-05-02 22:58:21 UTC    754   \n",
       "10       2022-05-02 22:58:35 UTC  46492   \n",
       "11       2022-05-02 22:58:35 UTC     88   \n",
       "...                          ...    ...   \n",
       "2266846  2022-05-02 05:40:15 UTC    110   \n",
       "2266847  2022-05-02 09:24:03 UTC      2   \n",
       "2266848  2022-05-02 10:11:31 UTC      0   \n",
       "2266849  2022-05-02 11:19:47 UTC     66   \n",
       "2266851  2022-05-02 08:06:23 UTC      8   \n",
       "\n",
       "                                       from_address  \\\n",
       "1        0x446c964931199815c012e344f8482b292ce1b20d   \n",
       "2        0x74cda7f19676192518cde477cea87d31fa372c8b   \n",
       "9        0xedce70709dafae5f7723ea3eb8ab554babbbeb4f   \n",
       "10       0x867bfa133d64fad734c89f886d2a169b6504ab2b   \n",
       "11       0xd57d890650bc8c5ae63eca7c85b40f022d126416   \n",
       "...                                             ...   \n",
       "2266846  0x461db1953c8b44a60e50151fa1095fffaf17da9d   \n",
       "2266847  0xa8aecca1dd0c27802c3243c8d754f224f6f057c8   \n",
       "2266848  0x3ca737fa7dd3ba1c146595aa462a50a55f7f1ef1   \n",
       "2266849  0x1cbabbaef4fcac7a239bad0a2e92cddfe69dcf3e   \n",
       "2266851  0x308ba2c956e6c96e47b491393dd98359015f0068   \n",
       "\n",
       "                                         to_address                 value  \\\n",
       "1        0x00000000a50bb64b4bbeceb18715748dface08af   1680000000000000000   \n",
       "2        0x886fcc25107c79c6ccb3bd41ed9b3c6e11d15f57     26176193391976478   \n",
       "9        0x0f905a23c916642fff85fb8d0f874b3e2ba5be37                     0   \n",
       "10       0x0bc2af32468de8d7af2e9823340b1a0df073cf05     22109160000000000   \n",
       "11       0x4bfce5a1acc3b847afa9579ba91da33b08e66fb7                     0   \n",
       "...                                             ...                   ...   \n",
       "2266846  0xe5678f7560b15a2fe5907197109b6b9686033a50     10000000000000000   \n",
       "2266847  0x33c26b56bda4bfa7ea889c92b80a1176b97d98a6    120000000000000000   \n",
       "2266848  0xdc24316b9ae028f1497c275eb9192a3ea0f67022  25000000000000000000   \n",
       "2266849  0xc9677cd8e9652f1b1aadd3429769b0ef8d7a0425                     0   \n",
       "2266851  0x333853a7ff34931e816a99471412bd83bef31188                     0   \n",
       "\n",
       "               value_lossless     gas    gas_price  max_fee_per_gas  \\\n",
       "1         1680000000000000000  210692  77296474263     1.500000e+11   \n",
       "2           26176193391976478   21000  82096486314     8.209649e+10   \n",
       "9                           0   51131  94853238920     9.485324e+10   \n",
       "10          22109160000000000   50000  69952490554     9.990000e+11   \n",
       "11                          0   54290  69891490554     9.610506e+10   \n",
       "...                       ...     ...          ...              ...   \n",
       "2266846     10000000000000000   21000  43842116081     4.384212e+10   \n",
       "2266847    120000000000000000   21000  38066841312     3.933748e+10   \n",
       "2266848  25000000000000000000  235248  51157888495     5.197078e+10   \n",
       "2266849                     0   46197  63532444163     6.521231e+10   \n",
       "2266851                     0   71638  43119503034     4.436346e+10   \n",
       "\n",
       "         max_priority_fee_per_gas  transaction_type  \n",
       "1                    1.650000e+09                 2  \n",
       "2                    8.209649e+10                 2  \n",
       "9                    9.485324e+10                 2  \n",
       "10                   2.001000e+09                 2  \n",
       "11                   1.940000e+09                 2  \n",
       "...                           ...               ...  \n",
       "2266846              1.410000e+09                 2  \n",
       "2266847              1.410000e+09                 2  \n",
       "2266848              1.410000e+09                 2  \n",
       "2266849              1.410000e+09                 2  \n",
       "2266851              1.410000e+09                 2  \n",
       "\n",
       "[968862 rows x 11 columns]"
      ]
     },
     "execution_count": 24,
     "metadata": {},
     "output_type": "execute_result"
    }
   ],
   "source": [
    "sin_picantes"
   ]
  },
  {
   "cell_type": "code",
   "execution_count": 33,
   "id": "4ae9674e",
   "metadata": {},
   "outputs": [],
   "source": [
    "from1 = sin_picantes['from_address'].value_counts()\n",
    "to1 = sin_picantes['to_address'].value_counts()\n",
    "bien = set(from1[from1>1].index).union(set(to1[to1>1].index))"
   ]
  },
  {
   "cell_type": "code",
   "execution_count": 35,
   "id": "ca618aa2",
   "metadata": {},
   "outputs": [],
   "source": [
    "limpio = sin_picantes[(sin_picantes['from_address'].isin(bien)) | (sin_picantes['to_address'].isin(bien))]"
   ]
  },
  {
   "cell_type": "code",
   "execution_count": 36,
   "id": "1ecf319e",
   "metadata": {},
   "outputs": [
    {
     "data": {
      "text/plain": [
       "from_address                                to_address                                \n",
       "0x808b4da0be6c9512e948521452227efc619bea52  0x3fda25f27211a138adf211f4c060f2149674be6d    1703\n",
       "0x4d9ff50ef4da947364bb9650892b2554e7be5e2b  0x0b95993a39a363d99280ac950f5e4536ab5c5566    1157\n",
       "0x000000a23c3512d4aab1129564b7e4e1ff571287  0x0000006daea1723962647b7e189d311d757fb793    1017\n",
       "0xf07704777d6bc182bf2c67fbda48913169b84983  0xe592427a0aece92de3edee1f18e0157c05861564     975\n",
       "0xd2c82f2e5fa236e114a81173e375a73664610998  0xd1669ac6044269b59fa12c5822439f609ca54f41     954\n",
       "                                                                                          ... \n",
       "0x5f2d42f61a8778abcdb404f79d8215f3838f44cd  0xe047a9a62abc961acf31b3a4c7e581ec8c706b74       1\n",
       "                                            0xb03b7274f689e1b3735915170e98247bc457b790       1\n",
       "                                            0x89f14f06cc6b6f542bc6d4bd195df6958f684ecc       1\n",
       "                                            0x19a9eb81c4659cbab283e21cdbb9c33c0860021c       1\n",
       "0x7d2e4d645c0acc5a6bf596b612cab351864f4090  0xa0c68c638235ee32657e8f720a23cec1bfc77c77       1\n",
       "Length: 627529, dtype: int64"
      ]
     },
     "execution_count": 36,
     "metadata": {},
     "output_type": "execute_result"
    }
   ],
   "source": [
    "limpio[['from_address', 'to_address']].value_counts()"
   ]
  },
  {
   "cell_type": "code",
   "execution_count": 30,
   "id": "1f869dbf",
   "metadata": {},
   "outputs": [],
   "source": [
    "cola = out_degres[out_degres < 16]"
   ]
  },
  {
   "cell_type": "code",
   "execution_count": 52,
   "id": "0785f7a4",
   "metadata": {},
   "outputs": [],
   "source": [
    "otra_cola= out_degres[out_degres > 1000]"
   ]
  },
  {
   "cell_type": "code",
   "execution_count": 64,
   "id": "3b9f3bc7",
   "metadata": {},
   "outputs": [],
   "source": [
    "otra_cola_in = out_degres[out_degres > np.percentile(in_degres, 99.95)]"
   ]
  },
  {
   "cell_type": "code",
   "execution_count": 41,
   "id": "2136aa77",
   "metadata": {},
   "outputs": [],
   "source": [
    "import matplotlib.pyplot as plt"
   ]
  },
  {
   "cell_type": "code",
   "execution_count": 65,
   "id": "c663b20b",
   "metadata": {},
   "outputs": [
    {
     "data": {
      "image/png": "[encoded data removed]",
      "text/plain": [
       "<Figure size 640x480 with 1 Axes>"
      ]
     },
     "metadata": {},
     "output_type": "display_data"
    }
   ],
   "source": [
    "plt.plot(otra_cola_in.values)\n",
    "plt.show()\n"
   ]
  },
  {
   "cell_type": "code",
   "execution_count": 53,
   "id": "e55b0b10",
   "metadata": {},
   "outputs": [
    {
     "data": {
      "image/png": "[encoded data removed]",
      "text/plain": [
       "<Figure size 640x480 with 1 Axes>"
      ]
     },
     "metadata": {},
     "output_type": "display_data"
    }
   ],
   "source": [
    "plt.plot(otra_cola.values)\n",
    "plt.show()\n"
   ]
  },
  {
   "cell_type": "code",
   "execution_count": 31,
   "id": "466d0268",
   "metadata": {},
   "outputs": [
    {
     "data": {
      "text/plain": [
       "<Axes: ylabel='Count'>"
      ]
     },
     "execution_count": 31,
     "metadata": {},
     "output_type": "execute_result"
    },
    {
     "data": {
      "image/png": "[encoded data removed]",
      "text/plain": [
       "<Figure size 640x480 with 1 Axes>"
      ]
     },
     "metadata": {},
     "output_type": "display_data"
    }
   ],
   "source": [
    "sns.histplot(cola.values)"
   ]
  },
  {
   "cell_type": "markdown",
   "id": "cce71713",
   "metadata": {},
   "source": []
  }
 ],
 "metadata": {
  "kernelspec": {
   "display_name": "Python 3 (ipykernel)",
   "language": "python",
   "name": "python3"
  },
  "language_info": {
   "codemirror_mode": {
    "name": "ipython",
    "version": 3
   },
   "file_extension": ".py",
   "mimetype": "text/x-python",
   "name": "python",
   "nbconvert_exporter": "python",
   "pygments_lexer": "ipython3",
   "version": "3.9.5"
  }
 },
 "nbformat": 4,
 "nbformat_minor": 5
}
