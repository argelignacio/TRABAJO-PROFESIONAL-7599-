{
 "cells": [
  {
   "cell_type": "code",
   "execution_count": 29,
   "metadata": {},
   "outputs": [],
   "source": [
    "from sklearn.cluster import KMeans\n",
    "from sklearn import metrics\n",
    "from scipy.spatial.distance import cdist\n",
    "import numpy as np\n",
    "import matplotlib.pyplot as plt\n",
    "import hdbscan\n",
    "import pickle\n",
    "import pandas as pd\n"
   ]
  },
  {
   "cell_type": "markdown",
   "metadata": {},
   "source": [
    "import de embedding"
   ]
  },
  {
   "cell_type": "code",
   "execution_count": 30,
   "metadata": {},
   "outputs": [],
   "source": [
    "embedding_matrix = np.load(\"../../vs_embedders/node2vec_embedding_matrix.npy\", allow_pickle=True)"
   ]
  },
  {
   "cell_type": "markdown",
   "metadata": {},
   "source": []
  },
  {
   "cell_type": "code",
   "execution_count": 31,
   "metadata": {},
   "outputs": [],
   "source": [
    "with open(\"../../vs_embedders/ids.pkl\", \"rb\") as file:\n",
    "    ids = pickle.load(file)"
   ]
  },
  {
   "cell_type": "code",
   "execution_count": 32,
   "metadata": {},
   "outputs": [
    {
     "data": {
      "text/plain": [
       "(128,)"
      ]
     },
     "execution_count": 32,
     "metadata": {},
     "output_type": "execute_result"
    }
   ],
   "source": [
    "embedding_matrix[0].shape"
   ]
  },
  {
   "cell_type": "code",
   "execution_count": 33,
   "metadata": {},
   "outputs": [
    {
     "name": "stdout",
     "output_type": "stream",
     "text": [
      "Cluster con 3 nodos\n",
      "Cluster con 4 nodos\n",
      "Cluster con 5 nodos\n",
      "Cluster con 6 nodos\n",
      "Cluster con 7 nodos\n",
      "Cluster con 8 nodos\n",
      "Cluster con 9 nodos\n",
      "Cluster con 10 nodos\n",
      "Cluster con 11 nodos\n",
      "Cluster con 12 nodos\n",
      "Cluster con 13 nodos\n",
      "Cluster con 14 nodos\n",
      "Cluster con 15 nodos\n"
     ]
    },
    {
     "data": {
      "image/png": "[encoded data removed]",
      "text/plain": [
       "<Figure size 640x480 with 1 Axes>"
      ]
     },
     "metadata": {},
     "output_type": "display_data"
    }
   ],
   "source": [
    "distortions = []\n",
    "K = range(3,16)\n",
    "for k in K:\n",
    "    print(f\"Cluster con {k} nodos\")\n",
    "    k_cluster = KMeans(n_clusters=k, max_iter=500, random_state=3425).fit(embedding_matrix)\n",
    "    k_cluster.fit(embedding_matrix)\n",
    "    distortions.append(k_cluster.inertia_)\n",
    "\n",
    "plt.plot(K, distortions, 'bx-')\n",
    "plt.xlabel('k')\n",
    "plt.ylabel('Distortion')\n",
    "plt.title('The Elbow Method showing the optimal k')\n",
    "plt.show()"
   ]
  },
  {
   "cell_type": "code",
   "execution_count": 34,
   "metadata": {},
   "outputs": [],
   "source": [
    "kmeans_cluster = KMeans(n_clusters=10, init='k-means++', n_init=300, random_state=3425).fit(embedding_matrix)\n",
    "kmeans_labels = kmeans_cluster.labels_"
   ]
  },
  {
   "cell_type": "code",
   "execution_count": 35,
   "metadata": {},
   "outputs": [],
   "source": [
    "# run the HDBSCAN cluster\n",
    "hdbs_model = hdbscan.HDBSCAN(min_cluster_size = 2)\n",
    "hdbs_model.fit(embedding_matrix)\n",
    "hbds_scan_labels = hdbs_model.labels_"
   ]
  },
  {
   "cell_type": "code",
   "execution_count": 36,
   "metadata": {},
   "outputs": [],
   "source": [
    "# create a dataframe of the nodes with their cluster labels\n",
    "nodes_labels = pd.DataFrame(zip(ids, kmeans_labels, hbds_scan_labels), columns = ['node_ids','kmeans','hdbscan'])"
   ]
  },
  {
   "cell_type": "code",
   "execution_count": 37,
   "metadata": {},
   "outputs": [
    {
     "data": {
      "text/html": [
       "<div>\n",
       "<style scoped>\n",
       "    .dataframe tbody tr th:only-of-type {\n",
       "        vertical-align: middle;\n",
       "    }\n",
       "\n",
       "    .dataframe tbody tr th {\n",
       "        vertical-align: top;\n",
       "    }\n",
       "\n",
       "    .dataframe thead th {\n",
       "        text-align: right;\n",
       "    }\n",
       "</style>\n",
       "<table border=\"1\" class=\"dataframe\">\n",
       "  <thead>\n",
       "    <tr style=\"text-align: right;\">\n",
       "      <th></th>\n",
       "      <th>node_ids</th>\n",
       "      <th>kmeans</th>\n",
       "      <th>hdbscan</th>\n",
       "    </tr>\n",
       "  </thead>\n",
       "  <tbody>\n",
       "    <tr>\n",
       "      <th>0</th>\n",
       "      <td>8bd4d9fc-6eb7-4a54-8fa4-1a75101658b9</td>\n",
       "      <td>3</td>\n",
       "      <td>2</td>\n",
       "    </tr>\n",
       "    <tr>\n",
       "      <th>1</th>\n",
       "      <td>8b1a0932-9f62-4ece-97d9-92720a3569f1</td>\n",
       "      <td>2</td>\n",
       "      <td>3</td>\n",
       "    </tr>\n",
       "    <tr>\n",
       "      <th>2</th>\n",
       "      <td>65ae3df2-bb7b-48e2-b8cf-821d7629665c</td>\n",
       "      <td>5</td>\n",
       "      <td>2</td>\n",
       "    </tr>\n",
       "    <tr>\n",
       "      <th>3</th>\n",
       "      <td>2602fb05-e9b2-44d5-80a3-10ec5d1ac2d8</td>\n",
       "      <td>5</td>\n",
       "      <td>2</td>\n",
       "    </tr>\n",
       "    <tr>\n",
       "      <th>4</th>\n",
       "      <td>218a2e20-5cea-47f9-ac6c-55d14a2981b8</td>\n",
       "      <td>0</td>\n",
       "      <td>0</td>\n",
       "    </tr>\n",
       "    <tr>\n",
       "      <th>5</th>\n",
       "      <td>b2a28e61-08c6-4ce8-af5b-6145d972ba9d</td>\n",
       "      <td>0</td>\n",
       "      <td>0</td>\n",
       "    </tr>\n",
       "    <tr>\n",
       "      <th>6</th>\n",
       "      <td>c7af17a7-dfa5-4ea9-ba89-e61b485a2512</td>\n",
       "      <td>2</td>\n",
       "      <td>3</td>\n",
       "    </tr>\n",
       "    <tr>\n",
       "      <th>7</th>\n",
       "      <td>433a4863-42ad-44aa-8fcc-0091a817e32d</td>\n",
       "      <td>1</td>\n",
       "      <td>1</td>\n",
       "    </tr>\n",
       "    <tr>\n",
       "      <th>8</th>\n",
       "      <td>da7f81d2-2772-4226-9fb2-93ee48d8a7a7</td>\n",
       "      <td>2</td>\n",
       "      <td>3</td>\n",
       "    </tr>\n",
       "    <tr>\n",
       "      <th>9</th>\n",
       "      <td>7657a881-6da1-42ae-84d3-b208df2c2403</td>\n",
       "      <td>0</td>\n",
       "      <td>0</td>\n",
       "    </tr>\n",
       "    <tr>\n",
       "      <th>10</th>\n",
       "      <td>d38b5809-c724-429e-aec6-b6e5b4aa51eb</td>\n",
       "      <td>9</td>\n",
       "      <td>1</td>\n",
       "    </tr>\n",
       "    <tr>\n",
       "      <th>11</th>\n",
       "      <td>300840b9-74c8-4546-ba1e-520dba22535e</td>\n",
       "      <td>7</td>\n",
       "      <td>1</td>\n",
       "    </tr>\n",
       "    <tr>\n",
       "      <th>12</th>\n",
       "      <td>d10e32e8-eb32-4ee3-8b2d-f7ed036c5ed2</td>\n",
       "      <td>0</td>\n",
       "      <td>0</td>\n",
       "    </tr>\n",
       "    <tr>\n",
       "      <th>13</th>\n",
       "      <td>6d59a3df-7f29-449b-a464-8ac9edf0e331</td>\n",
       "      <td>0</td>\n",
       "      <td>0</td>\n",
       "    </tr>\n",
       "    <tr>\n",
       "      <th>14</th>\n",
       "      <td>81c3db0f-e396-4b6a-aab0-a1ff619b4bb7</td>\n",
       "      <td>0</td>\n",
       "      <td>0</td>\n",
       "    </tr>\n",
       "    <tr>\n",
       "      <th>15</th>\n",
       "      <td>d9794e98-eda3-4210-a73b-66afeb88e375</td>\n",
       "      <td>7</td>\n",
       "      <td>1</td>\n",
       "    </tr>\n",
       "    <tr>\n",
       "      <th>16</th>\n",
       "      <td>b783d624-4a81-4746-b1b0-3458334f2555</td>\n",
       "      <td>8</td>\n",
       "      <td>3</td>\n",
       "    </tr>\n",
       "    <tr>\n",
       "      <th>17</th>\n",
       "      <td>346d1490-f18c-41a2-ad91-874fe7faeb97</td>\n",
       "      <td>7</td>\n",
       "      <td>1</td>\n",
       "    </tr>\n",
       "    <tr>\n",
       "      <th>18</th>\n",
       "      <td>c9fd0edb-d9dc-4c9f-948b-33f981122209</td>\n",
       "      <td>0</td>\n",
       "      <td>0</td>\n",
       "    </tr>\n",
       "    <tr>\n",
       "      <th>19</th>\n",
       "      <td>a2f30b79-ec06-4c98-9585-c705075a734e</td>\n",
       "      <td>3</td>\n",
       "      <td>2</td>\n",
       "    </tr>\n",
       "    <tr>\n",
       "      <th>20</th>\n",
       "      <td>9553a6ca-a916-4fb9-a189-96960d18c051</td>\n",
       "      <td>1</td>\n",
       "      <td>1</td>\n",
       "    </tr>\n",
       "    <tr>\n",
       "      <th>21</th>\n",
       "      <td>f2499cc9-d736-471d-a1bb-940615820f9a</td>\n",
       "      <td>1</td>\n",
       "      <td>1</td>\n",
       "    </tr>\n",
       "    <tr>\n",
       "      <th>22</th>\n",
       "      <td>512a1e1f-1fe8-4934-87a5-66b2db651a0f</td>\n",
       "      <td>0</td>\n",
       "      <td>0</td>\n",
       "    </tr>\n",
       "    <tr>\n",
       "      <th>23</th>\n",
       "      <td>567fe3d2-0a61-4dde-a1ba-1f87c24850be</td>\n",
       "      <td>3</td>\n",
       "      <td>2</td>\n",
       "    </tr>\n",
       "    <tr>\n",
       "      <th>24</th>\n",
       "      <td>adb18f32-85df-4110-8c3a-92498523ce99</td>\n",
       "      <td>3</td>\n",
       "      <td>2</td>\n",
       "    </tr>\n",
       "    <tr>\n",
       "      <th>25</th>\n",
       "      <td>7e226fa7-e985-45d7-81c0-896dcaec1970</td>\n",
       "      <td>2</td>\n",
       "      <td>3</td>\n",
       "    </tr>\n",
       "    <tr>\n",
       "      <th>26</th>\n",
       "      <td>18c80760-3b5f-4497-851c-70d63f75890b</td>\n",
       "      <td>6</td>\n",
       "      <td>3</td>\n",
       "    </tr>\n",
       "    <tr>\n",
       "      <th>27</th>\n",
       "      <td>2f0b39dc-4429-4b67-8667-559cce1e6c08</td>\n",
       "      <td>3</td>\n",
       "      <td>2</td>\n",
       "    </tr>\n",
       "    <tr>\n",
       "      <th>28</th>\n",
       "      <td>db88c185-4ae0-457a-a3ea-690b61c872c3</td>\n",
       "      <td>2</td>\n",
       "      <td>3</td>\n",
       "    </tr>\n",
       "    <tr>\n",
       "      <th>29</th>\n",
       "      <td>c7d33bbb-0650-41b9-932c-02c403727851</td>\n",
       "      <td>8</td>\n",
       "      <td>-1</td>\n",
       "    </tr>\n",
       "    <tr>\n",
       "      <th>30</th>\n",
       "      <td>789ddd3c-e73e-49b7-abc4-a0a2fb9b9c77</td>\n",
       "      <td>2</td>\n",
       "      <td>3</td>\n",
       "    </tr>\n",
       "    <tr>\n",
       "      <th>31</th>\n",
       "      <td>db352714-ff1a-4eab-be23-36a75c1e2ace</td>\n",
       "      <td>3</td>\n",
       "      <td>2</td>\n",
       "    </tr>\n",
       "    <tr>\n",
       "      <th>32</th>\n",
       "      <td>9060a406-dc31-42a4-a931-08bfde722320</td>\n",
       "      <td>0</td>\n",
       "      <td>0</td>\n",
       "    </tr>\n",
       "    <tr>\n",
       "      <th>33</th>\n",
       "      <td>be697e2e-e2f9-42c6-8c85-d8605b1e6490</td>\n",
       "      <td>9</td>\n",
       "      <td>1</td>\n",
       "    </tr>\n",
       "    <tr>\n",
       "      <th>34</th>\n",
       "      <td>322bb430-3cfd-46a4-b63a-24978e9cf545</td>\n",
       "      <td>1</td>\n",
       "      <td>1</td>\n",
       "    </tr>\n",
       "    <tr>\n",
       "      <th>35</th>\n",
       "      <td>fd5778b2-7bc7-412a-ad84-5108f565d7eb</td>\n",
       "      <td>4</td>\n",
       "      <td>-1</td>\n",
       "    </tr>\n",
       "  </tbody>\n",
       "</table>\n",
       "</div>"
      ],
      "text/plain": [
       "                                node_ids  kmeans  hdbscan\n",
       "0   8bd4d9fc-6eb7-4a54-8fa4-1a75101658b9       3        2\n",
       "1   8b1a0932-9f62-4ece-97d9-92720a3569f1       2        3\n",
       "2   65ae3df2-bb7b-48e2-b8cf-821d7629665c       5        2\n",
       "3   2602fb05-e9b2-44d5-80a3-10ec5d1ac2d8       5        2\n",
       "4   218a2e20-5cea-47f9-ac6c-55d14a2981b8       0        0\n",
       "5   b2a28e61-08c6-4ce8-af5b-6145d972ba9d       0        0\n",
       "6   c7af17a7-dfa5-4ea9-ba89-e61b485a2512       2        3\n",
       "7   433a4863-42ad-44aa-8fcc-0091a817e32d       1        1\n",
       "8   da7f81d2-2772-4226-9fb2-93ee48d8a7a7       2        3\n",
       "9   7657a881-6da1-42ae-84d3-b208df2c2403       0        0\n",
       "10  d38b5809-c724-429e-aec6-b6e5b4aa51eb       9        1\n",
       "11  300840b9-74c8-4546-ba1e-520dba22535e       7        1\n",
       "12  d10e32e8-eb32-4ee3-8b2d-f7ed036c5ed2       0        0\n",
       "13  6d59a3df-7f29-449b-a464-8ac9edf0e331       0        0\n",
       "14  81c3db0f-e396-4b6a-aab0-a1ff619b4bb7       0        0\n",
       "15  d9794e98-eda3-4210-a73b-66afeb88e375       7        1\n",
       "16  b783d624-4a81-4746-b1b0-3458334f2555       8        3\n",
       "17  346d1490-f18c-41a2-ad91-874fe7faeb97       7        1\n",
       "18  c9fd0edb-d9dc-4c9f-948b-33f981122209       0        0\n",
       "19  a2f30b79-ec06-4c98-9585-c705075a734e       3        2\n",
       "20  9553a6ca-a916-4fb9-a189-96960d18c051       1        1\n",
       "21  f2499cc9-d736-471d-a1bb-940615820f9a       1        1\n",
       "22  512a1e1f-1fe8-4934-87a5-66b2db651a0f       0        0\n",
       "23  567fe3d2-0a61-4dde-a1ba-1f87c24850be       3        2\n",
       "24  adb18f32-85df-4110-8c3a-92498523ce99       3        2\n",
       "25  7e226fa7-e985-45d7-81c0-896dcaec1970       2        3\n",
       "26  18c80760-3b5f-4497-851c-70d63f75890b       6        3\n",
       "27  2f0b39dc-4429-4b67-8667-559cce1e6c08       3        2\n",
       "28  db88c185-4ae0-457a-a3ea-690b61c872c3       2        3\n",
       "29  c7d33bbb-0650-41b9-932c-02c403727851       8       -1\n",
       "30  789ddd3c-e73e-49b7-abc4-a0a2fb9b9c77       2        3\n",
       "31  db352714-ff1a-4eab-be23-36a75c1e2ace       3        2\n",
       "32  9060a406-dc31-42a4-a931-08bfde722320       0        0\n",
       "33  be697e2e-e2f9-42c6-8c85-d8605b1e6490       9        1\n",
       "34  322bb430-3cfd-46a4-b63a-24978e9cf545       1        1\n",
       "35  fd5778b2-7bc7-412a-ad84-5108f565d7eb       4       -1"
      ]
     },
     "execution_count": 37,
     "metadata": {},
     "output_type": "execute_result"
    }
   ],
   "source": [
    "nodes_labels"
   ]
  },
  {
   "cell_type": "code",
   "execution_count": 38,
   "metadata": {},
   "outputs": [
    {
     "data": {
      "text/plain": [
       "hdbscan\n",
       " 0    9\n",
       " 1    9\n",
       " 2    8\n",
       " 3    8\n",
       "-1    2\n",
       "Name: count, dtype: int64"
      ]
     },
     "execution_count": 38,
     "metadata": {},
     "output_type": "execute_result"
    }
   ],
   "source": [
    "nodes_labels.hdbscan.value_counts()"
   ]
  },
  {
   "cell_type": "code",
   "execution_count": 39,
   "metadata": {},
   "outputs": [
    {
     "data": {
      "text/plain": [
       "kmeans\n",
       "0    9\n",
       "3    6\n",
       "2    6\n",
       "1    4\n",
       "7    3\n",
       "5    2\n",
       "9    2\n",
       "8    2\n",
       "6    1\n",
       "4    1\n",
       "Name: count, dtype: int64"
      ]
     },
     "execution_count": 39,
     "metadata": {},
     "output_type": "execute_result"
    }
   ],
   "source": [
    "nodes_labels.kmeans.value_counts()"
   ]
  },
  {
   "cell_type": "code",
   "execution_count": 40,
   "metadata": {},
   "outputs": [],
   "source": [
    "import umap\n",
    "embedding = umap.UMAP(n_components=2).fit(embedding_matrix)"
   ]
  },
  {
   "cell_type": "code",
   "execution_count": 41,
   "metadata": {},
   "outputs": [
    {
     "data": {
      "image/png": "[encoded data removed]",
      "text/plain": [
       "<Figure size 1200x800 with 1 Axes>"
      ]
     },
     "metadata": {},
     "output_type": "display_data"
    }
   ],
   "source": [
    "import matplotlib.pyplot as plt\n",
    "\n",
    "plt.figure(figsize=(12,8))\n",
    "plt.scatter(embedding.embedding_[:, 0], embedding.embedding_[:, 1], alpha=0.4, c=nodes_labels.hdbscan, cmap='viridis')\n",
    "plt.gca().set_aspect('equal', 'datalim')\n",
    "plt.show()"
   ]
  }
 ],
 "metadata": {
  "kernelspec": {
   "display_name": "pow_a_pos-K56kznNs-py3.10",
   "language": "python",
   "name": "python3"
  },
  "language_info": {
   "codemirror_mode": {
    "name": "ipython",
    "version": 3
   },
   "file_extension": ".py",
   "mimetype": "text/x-python",
   "name": "python",
   "nbconvert_exporter": "python",
   "pygments_lexer": "ipython3",
   "version": "3.10.12"
  }
 },
 "nbformat": 4,
 "nbformat_minor": 2
}
