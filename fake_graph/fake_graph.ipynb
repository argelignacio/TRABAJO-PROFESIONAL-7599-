{
 "cells": [
  {
   "cell_type": "code",
   "execution_count": 27,
   "metadata": {},
   "outputs": [],
   "source": [
    "import pandas as pd\n",
    "import random\n",
    "import uuid"
   ]
  },
  {
   "cell_type": "code",
   "execution_count": 28,
   "metadata": {},
   "outputs": [
    {
     "name": "stdout",
     "output_type": "stream",
     "text": [
      "ID aleatorio: fd9dd691-669d-47c9-9db6-fb900c2ed65d\n"
     ]
    }
   ],
   "source": [
    "# Generar un UUID aleatorio\n",
    "random_id = uuid.uuid4()\n",
    "print(\"ID aleatorio:\", random_id)"
   ]
  },
  {
   "cell_type": "code",
   "execution_count": 29,
   "metadata": {},
   "outputs": [],
   "source": [
    "cluster_1 = [uuid.uuid4() for i in range(15)]\n",
    "cluster_2 = [uuid.uuid4() for i in range(15)]\n",
    "cluster_3 = [uuid.uuid4() for i in range(15)]\n",
    "cluster_4 = [uuid.uuid4() for i in range(15)]\n",
    "\n",
    "probability_intern = 0.65\n",
    "\n",
    "clusters = [cluster_1, cluster_2, cluster_3, cluster_4]\n",
    "\n",
    "data = []\n",
    "for i in range(150):\n",
    "    if random.random() < probability_intern:\n",
    "        cluster_aux = int(random.random() * 3)\n",
    "        id_1 = clusters[cluster_aux][int(random.random() * 14)]\n",
    "        id_2 = clusters[cluster_aux][int(random.random() * 14)]\n",
    "    else:\n",
    "        id_1 = clusters[int(random.random() * 3)][int(random.random() * 14)]\n",
    "        id_2 = clusters[int(random.random() * 3)][int(random.random() * 14)]\n",
    "        \n",
    "    new_row = {'from_address': id_1, 'to_address': id_2}\n",
    "    data.append(new_row)\n",
    "matrix = pd.DataFrame(columns=['from_address', 'to_address'], data=data)"
   ]
  },
  {
   "cell_type": "code",
   "execution_count": 30,
   "metadata": {},
   "outputs": [
    {
     "data": {
      "text/html": [
       "<div>\n",
       "<style scoped>\n",
       "    .dataframe tbody tr th:only-of-type {\n",
       "        vertical-align: middle;\n",
       "    }\n",
       "\n",
       "    .dataframe tbody tr th {\n",
       "        vertical-align: top;\n",
       "    }\n",
       "\n",
       "    .dataframe thead th {\n",
       "        text-align: right;\n",
       "    }\n",
       "</style>\n",
       "<table border=\"1\" class=\"dataframe\">\n",
       "  <thead>\n",
       "    <tr style=\"text-align: right;\">\n",
       "      <th></th>\n",
       "      <th>from_address</th>\n",
       "      <th>to_address</th>\n",
       "    </tr>\n",
       "  </thead>\n",
       "  <tbody>\n",
       "    <tr>\n",
       "      <th>0</th>\n",
       "      <td>abfa18f1-8ec0-46da-a7ae-1285a022cbb0</td>\n",
       "      <td>4a9e9cae-bfa4-424f-aa5a-d0aa30428be9</td>\n",
       "    </tr>\n",
       "    <tr>\n",
       "      <th>1</th>\n",
       "      <td>abfa18f1-8ec0-46da-a7ae-1285a022cbb0</td>\n",
       "      <td>f27ae633-bf32-4c64-8ea6-531b657bb210</td>\n",
       "    </tr>\n",
       "    <tr>\n",
       "      <th>2</th>\n",
       "      <td>06bdea9a-7e04-484f-b127-6f26bc4ae4fa</td>\n",
       "      <td>d43d752f-f56f-4dca-bd2d-413dc8a0b7e5</td>\n",
       "    </tr>\n",
       "    <tr>\n",
       "      <th>3</th>\n",
       "      <td>4ee71943-a29f-4b87-a801-3ce1219cb2d5</td>\n",
       "      <td>df2495a4-1f60-440d-8e11-d78315d1f213</td>\n",
       "    </tr>\n",
       "    <tr>\n",
       "      <th>4</th>\n",
       "      <td>a7d240d8-169d-438b-b19f-248a2d02ac72</td>\n",
       "      <td>40277ae6-ba71-4d29-84ca-1261a888b0f1</td>\n",
       "    </tr>\n",
       "    <tr>\n",
       "      <th>...</th>\n",
       "      <td>...</td>\n",
       "      <td>...</td>\n",
       "    </tr>\n",
       "    <tr>\n",
       "      <th>145</th>\n",
       "      <td>0dfcfa64-dc22-461c-bc7d-cfc2c51c6167</td>\n",
       "      <td>0dfcfa64-dc22-461c-bc7d-cfc2c51c6167</td>\n",
       "    </tr>\n",
       "    <tr>\n",
       "      <th>146</th>\n",
       "      <td>e6b621c7-4092-4832-a1f7-0d9d8ce67a98</td>\n",
       "      <td>e6b621c7-4092-4832-a1f7-0d9d8ce67a98</td>\n",
       "    </tr>\n",
       "    <tr>\n",
       "      <th>147</th>\n",
       "      <td>c185870a-c9de-4798-9ada-3fd8323c2d57</td>\n",
       "      <td>aa595cdc-65a9-40dd-ba9c-46a9d8517441</td>\n",
       "    </tr>\n",
       "    <tr>\n",
       "      <th>148</th>\n",
       "      <td>45c0df19-0e19-43ea-b07d-01990cd886da</td>\n",
       "      <td>d43d752f-f56f-4dca-bd2d-413dc8a0b7e5</td>\n",
       "    </tr>\n",
       "    <tr>\n",
       "      <th>149</th>\n",
       "      <td>4485f2ba-e54d-4e11-857f-8827bd3eb7ba</td>\n",
       "      <td>8a886fb4-cab6-4803-8a12-741705c5eab4</td>\n",
       "    </tr>\n",
       "  </tbody>\n",
       "</table>\n",
       "<p>150 rows × 2 columns</p>\n",
       "</div>"
      ],
      "text/plain": [
       "                             from_address  \\\n",
       "0    abfa18f1-8ec0-46da-a7ae-1285a022cbb0   \n",
       "1    abfa18f1-8ec0-46da-a7ae-1285a022cbb0   \n",
       "2    06bdea9a-7e04-484f-b127-6f26bc4ae4fa   \n",
       "3    4ee71943-a29f-4b87-a801-3ce1219cb2d5   \n",
       "4    a7d240d8-169d-438b-b19f-248a2d02ac72   \n",
       "..                                    ...   \n",
       "145  0dfcfa64-dc22-461c-bc7d-cfc2c51c6167   \n",
       "146  e6b621c7-4092-4832-a1f7-0d9d8ce67a98   \n",
       "147  c185870a-c9de-4798-9ada-3fd8323c2d57   \n",
       "148  45c0df19-0e19-43ea-b07d-01990cd886da   \n",
       "149  4485f2ba-e54d-4e11-857f-8827bd3eb7ba   \n",
       "\n",
       "                               to_address  \n",
       "0    4a9e9cae-bfa4-424f-aa5a-d0aa30428be9  \n",
       "1    f27ae633-bf32-4c64-8ea6-531b657bb210  \n",
       "2    d43d752f-f56f-4dca-bd2d-413dc8a0b7e5  \n",
       "3    df2495a4-1f60-440d-8e11-d78315d1f213  \n",
       "4    40277ae6-ba71-4d29-84ca-1261a888b0f1  \n",
       "..                                    ...  \n",
       "145  0dfcfa64-dc22-461c-bc7d-cfc2c51c6167  \n",
       "146  e6b621c7-4092-4832-a1f7-0d9d8ce67a98  \n",
       "147  aa595cdc-65a9-40dd-ba9c-46a9d8517441  \n",
       "148  d43d752f-f56f-4dca-bd2d-413dc8a0b7e5  \n",
       "149  8a886fb4-cab6-4803-8a12-741705c5eab4  \n",
       "\n",
       "[150 rows x 2 columns]"
      ]
     },
     "execution_count": 30,
     "metadata": {},
     "output_type": "execute_result"
    }
   ],
   "source": [
    "matrix"
   ]
  }
 ],
 "metadata": {
  "kernelspec": {
   "display_name": "pow_a_pos-yxg4rxtc-py3.10",
   "language": "python",
   "name": "python3"
  },
  "language_info": {
   "codemirror_mode": {
    "name": "ipython",
    "version": 3
   },
   "file_extension": ".py",
   "mimetype": "text/x-python",
   "name": "python",
   "nbconvert_exporter": "python",
   "pygments_lexer": "ipython3",
   "version": "3.10.12"
  }
 },
 "nbformat": 4,
 "nbformat_minor": 2
}
