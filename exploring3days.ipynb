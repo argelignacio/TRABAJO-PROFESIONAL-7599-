{
 "cells": [
  {
   "cell_type": "code",
   "execution_count": 1,
   "id": "cc39dbd3",
   "metadata": {},
   "outputs": [],
   "source": [
    "import pandas as pd\n"
   ]
  },
  {
   "cell_type": "code",
   "execution_count": 2,
   "id": "85323c2f",
   "metadata": {},
   "outputs": [],
   "source": [
    "data = pd.read_csv(\"10days.csv\")"
   ]
  },
  {
   "cell_type": "code",
   "execution_count": 3,
   "id": "72746490",
   "metadata": {},
   "outputs": [
    {
     "data": {
      "text/plain": [
       "0          None\n",
       "1          None\n",
       "2          None\n",
       "3          None\n",
       "4          None\n",
       "           ... \n",
       "5170842    None\n",
       "5170843    None\n",
       "5170844    None\n",
       "5170845    None\n",
       "5170846    None\n",
       "Length: 5170847, dtype: object"
      ]
     },
     "execution_count": 3,
     "metadata": {},
     "output_type": "execute_result"
    }
   ],
   "source": [
    "addresses = set()\n",
    "(data[[\"from_address\", \"to_address\"]].apply(lambda x: addresses.add(x.from_address) and addresses.add(x.to_address), axis=1))"
   ]
  },
  {
   "cell_type": "code",
   "execution_count": 4,
   "id": "aa1e654d",
   "metadata": {},
   "outputs": [],
   "source": [
    "uniques_address = len(addresses)"
   ]
  },
  {
   "cell_type": "code",
   "execution_count": 5,
   "id": "e802fa32",
   "metadata": {},
   "outputs": [
    {
     "data": {
      "text/plain": [
       "0.8835274214064404"
      ]
     },
     "execution_count": 5,
     "metadata": {},
     "output_type": "execute_result"
    }
   ],
   "source": [
    "uniques_address / 3344358 * 2"
   ]
  },
  {
   "cell_type": "code",
   "execution_count": 6,
   "id": "4afba427",
   "metadata": {},
   "outputs": [],
   "source": [
    "import seaborn as sns"
   ]
  },
  {
   "cell_type": "code",
   "execution_count": 7,
   "id": "1e73eba8",
   "metadata": {},
   "outputs": [
    {
     "data": {
      "text/plain": [
       "Index(['block_timestamp', 'transaction_index', 'nonce', 'from_address',\n",
       "       'to_address', 'value', 'value_lossless', 'gas', 'gas_price',\n",
       "       'max_fee_per_gas', 'max_priority_fee_per_gas', 'transaction_type'],\n",
       "      dtype='object')"
      ]
     },
     "execution_count": 7,
     "metadata": {},
     "output_type": "execute_result"
    }
   ],
   "source": [
    "data.columns"
   ]
  },
  {
   "cell_type": "code",
   "execution_count": 8,
   "id": "bef837ba",
   "metadata": {},
   "outputs": [],
   "source": [
    "senders = data['from_address'].value_counts()\n",
    "receivers = data['to_address'].value_counts()"
   ]
  },
  {
   "cell_type": "code",
   "execution_count": 9,
   "id": "7bfdfe7f",
   "metadata": {},
   "outputs": [
    {
     "data": {
      "text/plain": [
       "0xea674fdde714fd979de3edf0f56aa9716b898ec8    152428\n",
       "0xb5d85cbf7cb3ee0d56b3bb207d5fc4b82f43f511     87999\n",
       "0x3cd751e6b0078be393132286c442345e5dc49699     86175\n",
       "0xddfabcdc4d8ffc6d5beaf154f18b778f892a0740     71624\n",
       "0xeb2629a2734e272bcc07bda959863f316f4bd4cf     67299\n",
       "                                               ...  \n",
       "0x41267191ed4d3cb376bcd344783d9f89899c3c02         1\n",
       "0x8984a142a18b478bd3ac1c38016f7a1a529851ac         1\n",
       "0x0c5eba918dd646a5ddef865b6c12f24cd8991c45         1\n",
       "0xfed78b2ec8582c7407c582a3144621bc78207db2         1\n",
       "0x56e590b09048f996e3f118643b912d1f56199e0d         1\n",
       "Name: from_address, Length: 1477416, dtype: int64"
      ]
     },
     "execution_count": 9,
     "metadata": {},
     "output_type": "execute_result"
    }
   ],
   "source": [
    "senders"
   ]
  },
  {
   "cell_type": "code",
   "execution_count": 10,
   "id": "5399b752",
   "metadata": {},
   "outputs": [
    {
     "data": {
      "text/plain": [
       "0xdac17f958d2ee523a2206206994597c13d831ec7    420751\n",
       "0x7f268357a8c2552623316e2562d90e642bb538e5    391315\n",
       "0x283af0b28c62c092c9727f1ee09c02ca627eb7f5    218683\n",
       "0xa0b86991c6218b36c1d19d4a2e9eb0ce3606eb48    189069\n",
       "0xa090e606e30bd747d4e6245a1517ebe430f0057e    130834\n",
       "                                               ...  \n",
       "0x1f784250c71978827b4ca902bbb0dde08a0c6f42         1\n",
       "0x075f31b4fc6e2ab2b7c4ce8db76c204ccdd3d654         1\n",
       "0x8dae3c1efcba40515830819206f8f0328a5d6aff         1\n",
       "0x00c16b11c994efd50f442784caf0179708431b28         1\n",
       "0x00d945cc76eba5e78e17b0ac13eb1052cda40073         1\n",
       "Name: to_address, Length: 1432998, dtype: int64"
      ]
     },
     "execution_count": 10,
     "metadata": {},
     "output_type": "execute_result"
    }
   ],
   "source": [
    "receivers"
   ]
  },
  {
   "cell_type": "code",
   "execution_count": 11,
   "id": "dacf360b",
   "metadata": {},
   "outputs": [],
   "source": [
    "senders_dist = senders.value_counts().reset_index()\n",
    "receivers_dist = receivers.value_counts().reset_index()"
   ]
  },
  {
   "cell_type": "code",
   "execution_count": 12,
   "id": "e09c6d3f",
   "metadata": {},
   "outputs": [
    {
     "data": {
      "text/plain": [
       "0.013554746936543263"
      ]
     },
     "execution_count": 12,
     "metadata": {},
     "output_type": "execute_result"
    }
   ],
   "source": [
    "senders_dist[senders_dist.index >= 15].from_address.sum() / uniques_address"
   ]
  },
  {
   "cell_type": "code",
   "execution_count": 13,
   "id": "cb35d75f",
   "metadata": {},
   "outputs": [
    {
     "data": {
      "text/plain": [
       "0.004497717636738738"
      ]
     },
     "execution_count": 13,
     "metadata": {},
     "output_type": "execute_result"
    }
   ],
   "source": [
    "receivers_dist[receivers_dist.index >= 15].to_address.sum() / uniques_address"
   ]
  },
  {
   "cell_type": "code",
   "execution_count": 14,
   "id": "0309bb3a",
   "metadata": {},
   "outputs": [
    {
     "data": {
      "text/plain": [
       "0x01cb3462be1c0024d0dc15e41134bfde21620e75    15\n",
       "0xefe442cb23248be982d263126eca8f66e357305d    15\n",
       "0x2e1cbdb695e2ed8ff755bb7934ea3b247071b893    15\n",
       "0x7caf990b3d745aad698c8437691c5d7166d4adec    15\n",
       "0xa8ba075e79241d0771fc4237174c1a8d67edf7d2    15\n",
       "                                              ..\n",
       "0x41267191ed4d3cb376bcd344783d9f89899c3c02     1\n",
       "0x8984a142a18b478bd3ac1c38016f7a1a529851ac     1\n",
       "0x0c5eba918dd646a5ddef865b6c12f24cd8991c45     1\n",
       "0xfed78b2ec8582c7407c582a3144621bc78207db2     1\n",
       "0x56e590b09048f996e3f118643b912d1f56199e0d     1\n",
       "Name: from_address, Length: 1457390, dtype: int64"
      ]
     },
     "execution_count": 14,
     "metadata": {},
     "output_type": "execute_result"
    }
   ],
   "source": [
    "senders[(senders >= 0) & (senders <= 15)]"
   ]
  },
  {
   "cell_type": "code",
   "execution_count": 15,
   "id": "5075cb78",
   "metadata": {},
   "outputs": [
    {
     "data": {
      "text/plain": [
       "<Axes: xlabel='from_address', ylabel='Count'>"
      ]
     },
     "execution_count": 15,
     "metadata": {},
     "output_type": "execute_result"
    },
    {
     "data": {
      "image/png": "[encoded data removed]",
      "text/plain": [
       "<Figure size 640x480 with 1 Axes>"
      ]
     },
     "metadata": {},
     "output_type": "display_data"
    }
   ],
   "source": [
    "sns.histplot(data=senders[(senders >= 0) & (senders <= 30)], discrete=True)"
   ]
  },
  {
   "cell_type": "code",
   "execution_count": 16,
   "id": "02c846fa",
   "metadata": {},
   "outputs": [
    {
     "data": {
      "text/plain": [
       "<Axes: xlabel='from_address', ylabel='Count'>"
      ]
     },
     "execution_count": 16,
     "metadata": {},
     "output_type": "execute_result"
    },
    {
     "data": {
      "image/png": "[encoded data removed]",
      "text/plain": [
       "<Figure size 640x480 with 1 Axes>"
      ]
     },
     "metadata": {},
     "output_type": "display_data"
    }
   ],
   "source": [
    "sns.histplot(data=senders[(senders >= 30) & (senders <= 300)], discrete=True)\n"
   ]
  },
  {
   "cell_type": "code",
   "execution_count": 17,
   "id": "59eaa587",
   "metadata": {},
   "outputs": [],
   "source": [
    "import networkx as nx"
   ]
  },
  {
   "cell_type": "code",
   "execution_count": 18,
   "id": "ebc8e24d",
   "metadata": {},
   "outputs": [],
   "source": [
    "g=nx.Graph()"
   ]
  },
  {
   "cell_type": "code",
   "execution_count": 19,
   "id": "6815dda1",
   "metadata": {},
   "outputs": [],
   "source": [
    "def armar_grafo(frm, to, g):\n",
    "    g.add_node(frm)\n",
    "    g.add_node(to)\n",
    "    g.add_edge(frm, to)"
   ]
  },
  {
   "cell_type": "code",
   "execution_count": 20,
   "id": "2b460c15",
   "metadata": {},
   "outputs": [],
   "source": [
    "more_than_10_sent = set(senders[senders > 30].index)\n",
    "more_than_10_received = set(receivers[receivers > 30].index)"
   ]
  },
  {
   "cell_type": "code",
   "execution_count": 21,
   "id": "5db11f14",
   "metadata": {},
   "outputs": [],
   "source": [
    "filtered = data[data.from_address.isin(more_than_10_sent) & data.to_address.isin(more_than_10_received)]"
   ]
  },
  {
   "cell_type": "code",
   "execution_count": 22,
   "id": "084794e3",
   "metadata": {},
   "outputs": [
    {
     "data": {
      "text/html": [
       "<div>\n",
       "<style scoped>\n",
       "    .dataframe tbody tr th:only-of-type {\n",
       "        vertical-align: middle;\n",
       "    }\n",
       "\n",
       "    .dataframe tbody tr th {\n",
       "        vertical-align: top;\n",
       "    }\n",
       "\n",
       "    .dataframe thead th {\n",
       "        text-align: right;\n",
       "    }\n",
       "</style>\n",
       "<table border=\"1\" class=\"dataframe\">\n",
       "  <thead>\n",
       "    <tr style=\"text-align: right;\">\n",
       "      <th></th>\n",
       "      <th>block_timestamp</th>\n",
       "      <th>transaction_index</th>\n",
       "      <th>nonce</th>\n",
       "      <th>from_address</th>\n",
       "      <th>to_address</th>\n",
       "      <th>value</th>\n",
       "      <th>value_lossless</th>\n",
       "      <th>gas</th>\n",
       "      <th>gas_price</th>\n",
       "      <th>max_fee_per_gas</th>\n",
       "      <th>max_priority_fee_per_gas</th>\n",
       "      <th>transaction_type</th>\n",
       "    </tr>\n",
       "  </thead>\n",
       "  <tbody>\n",
       "    <tr>\n",
       "      <th>0</th>\n",
       "      <td>2022-05-06 17:32:23 UTC</td>\n",
       "      <td>322</td>\n",
       "      <td>293</td>\n",
       "      <td>0x61ebf1460ca709b72bf3b6f9b38ec31b46dc5336</td>\n",
       "      <td>0xdac17f958d2ee523a2206206994597c13d831ec7</td>\n",
       "      <td>0</td>\n",
       "      <td>0</td>\n",
       "      <td>50719</td>\n",
       "      <td>52259603355</td>\n",
       "      <td>5.860330e+10</td>\n",
       "      <td>1.510000e+09</td>\n",
       "      <td>2</td>\n",
       "    </tr>\n",
       "    <tr>\n",
       "      <th>11</th>\n",
       "      <td>2022-05-06 16:46:00 UTC</td>\n",
       "      <td>129</td>\n",
       "      <td>9262</td>\n",
       "      <td>0x88bd4d3e2997371bceefe8d9386c6b5b4de60346</td>\n",
       "      <td>0xdac17f958d2ee523a2206206994597c13d831ec7</td>\n",
       "      <td>0</td>\n",
       "      <td>0</td>\n",
       "      <td>100000</td>\n",
       "      <td>51801032875</td>\n",
       "      <td>1.410000e+11</td>\n",
       "      <td>1.364896e+09</td>\n",
       "      <td>2</td>\n",
       "    </tr>\n",
       "    <tr>\n",
       "      <th>12</th>\n",
       "      <td>2022-05-06 13:55:00 UTC</td>\n",
       "      <td>251</td>\n",
       "      <td>108</td>\n",
       "      <td>0x5ef6ce09160edac8074853ee2aa2b1e681a3a133</td>\n",
       "      <td>0xa0b86991c6218b36c1d19d4a2e9eb0ce3606eb48</td>\n",
       "      <td>0</td>\n",
       "      <td>0</td>\n",
       "      <td>79396</td>\n",
       "      <td>48671975266</td>\n",
       "      <td>9.383105e+10</td>\n",
       "      <td>1.340444e+09</td>\n",
       "      <td>2</td>\n",
       "    </tr>\n",
       "    <tr>\n",
       "      <th>13</th>\n",
       "      <td>2022-05-06 15:53:28 UTC</td>\n",
       "      <td>299</td>\n",
       "      <td>31959</td>\n",
       "      <td>0xd295879063be7a6c49f7327afaa831a4f3f64882</td>\n",
       "      <td>0x4cb18386e5d1f34dc6eea834bf3534a970a3f8e7</td>\n",
       "      <td>19975</td>\n",
       "      <td>19975</td>\n",
       "      <td>900000</td>\n",
       "      <td>48310344196</td>\n",
       "      <td>7.616762e+10</td>\n",
       "      <td>2.001950e+09</td>\n",
       "      <td>2</td>\n",
       "    </tr>\n",
       "    <tr>\n",
       "      <th>18</th>\n",
       "      <td>2022-05-06 14:02:17 UTC</td>\n",
       "      <td>667</td>\n",
       "      <td>199</td>\n",
       "      <td>0xceb88607e6645839e64e20c99d19622a9e516af1</td>\n",
       "      <td>0xcb2411c2b914b000ad13c86027222a797983ef2d</td>\n",
       "      <td>690000000000000000</td>\n",
       "      <td>690000000000000000</td>\n",
       "      <td>236501</td>\n",
       "      <td>1982410147879</td>\n",
       "      <td>1.982410e+12</td>\n",
       "      <td>1.797409e+12</td>\n",
       "      <td>2</td>\n",
       "    </tr>\n",
       "    <tr>\n",
       "      <th>...</th>\n",
       "      <td>...</td>\n",
       "      <td>...</td>\n",
       "      <td>...</td>\n",
       "      <td>...</td>\n",
       "      <td>...</td>\n",
       "      <td>...</td>\n",
       "      <td>...</td>\n",
       "      <td>...</td>\n",
       "      <td>...</td>\n",
       "      <td>...</td>\n",
       "      <td>...</td>\n",
       "      <td>...</td>\n",
       "    </tr>\n",
       "    <tr>\n",
       "      <th>5170744</th>\n",
       "      <td>2022-05-04 14:33:32 UTC</td>\n",
       "      <td>36</td>\n",
       "      <td>89212</td>\n",
       "      <td>0xd5fbda4c79f38920159fe5f22df9655fde292d47</td>\n",
       "      <td>0xdac17f958d2ee523a2206206994597c13d831ec7</td>\n",
       "      <td>0</td>\n",
       "      <td>0</td>\n",
       "      <td>46121</td>\n",
       "      <td>47359353513</td>\n",
       "      <td>1.034674e+11</td>\n",
       "      <td>2.500000e+09</td>\n",
       "      <td>2</td>\n",
       "    </tr>\n",
       "    <tr>\n",
       "      <th>5170776</th>\n",
       "      <td>2022-05-04 12:41:34 UTC</td>\n",
       "      <td>60</td>\n",
       "      <td>21366</td>\n",
       "      <td>0x3d1d8a1d418220fd53c18744d44c182c46f47468</td>\n",
       "      <td>0xdac17f958d2ee523a2206206994597c13d831ec7</td>\n",
       "      <td>0</td>\n",
       "      <td>0</td>\n",
       "      <td>120000</td>\n",
       "      <td>36775156081</td>\n",
       "      <td>5.529981e+10</td>\n",
       "      <td>2.500000e+09</td>\n",
       "      <td>2</td>\n",
       "    </tr>\n",
       "    <tr>\n",
       "      <th>5170804</th>\n",
       "      <td>2022-05-07 17:21:43 UTC</td>\n",
       "      <td>179</td>\n",
       "      <td>2651</td>\n",
       "      <td>0x734ebece6d698a50cf90ac9bf15e3f16dc34a204</td>\n",
       "      <td>0x87dcb78443f9814e300f5dafe8eaf46a34832742</td>\n",
       "      <td>99900000000000000</td>\n",
       "      <td>99900000000000000</td>\n",
       "      <td>168372</td>\n",
       "      <td>30805533615</td>\n",
       "      <td>6.528774e+10</td>\n",
       "      <td>2.500000e+09</td>\n",
       "      <td>2</td>\n",
       "    </tr>\n",
       "    <tr>\n",
       "      <th>5170822</th>\n",
       "      <td>2022-05-03 07:29:49 UTC</td>\n",
       "      <td>106</td>\n",
       "      <td>69431</td>\n",
       "      <td>0x87cbc48075d7aa1760ac71c41e8bc289b6a31f56</td>\n",
       "      <td>0xdac17f958d2ee523a2206206994597c13d831ec7</td>\n",
       "      <td>0</td>\n",
       "      <td>0</td>\n",
       "      <td>120000</td>\n",
       "      <td>60173862573</td>\n",
       "      <td>1.000000e+12</td>\n",
       "      <td>2.500000e+09</td>\n",
       "      <td>2</td>\n",
       "    </tr>\n",
       "    <tr>\n",
       "      <th>5170844</th>\n",
       "      <td>2022-05-07 22:33:39 UTC</td>\n",
       "      <td>109</td>\n",
       "      <td>14544</td>\n",
       "      <td>0x22f6cc8738308a8c92a6a71ea67832463d1fec0d</td>\n",
       "      <td>0xdac17f958d2ee523a2206206994597c13d831ec7</td>\n",
       "      <td>0</td>\n",
       "      <td>0</td>\n",
       "      <td>120000</td>\n",
       "      <td>21822468908</td>\n",
       "      <td>4.866871e+10</td>\n",
       "      <td>2.500000e+09</td>\n",
       "      <td>2</td>\n",
       "    </tr>\n",
       "  </tbody>\n",
       "</table>\n",
       "<p>844055 rows × 12 columns</p>\n",
       "</div>"
      ],
      "text/plain": [
       "                 block_timestamp  transaction_index  nonce  \\\n",
       "0        2022-05-06 17:32:23 UTC                322    293   \n",
       "11       2022-05-06 16:46:00 UTC                129   9262   \n",
       "12       2022-05-06 13:55:00 UTC                251    108   \n",
       "13       2022-05-06 15:53:28 UTC                299  31959   \n",
       "18       2022-05-06 14:02:17 UTC                667    199   \n",
       "...                          ...                ...    ...   \n",
       "5170744  2022-05-04 14:33:32 UTC                 36  89212   \n",
       "5170776  2022-05-04 12:41:34 UTC                 60  21366   \n",
       "5170804  2022-05-07 17:21:43 UTC                179   2651   \n",
       "5170822  2022-05-03 07:29:49 UTC                106  69431   \n",
       "5170844  2022-05-07 22:33:39 UTC                109  14544   \n",
       "\n",
       "                                       from_address  \\\n",
       "0        0x61ebf1460ca709b72bf3b6f9b38ec31b46dc5336   \n",
       "11       0x88bd4d3e2997371bceefe8d9386c6b5b4de60346   \n",
       "12       0x5ef6ce09160edac8074853ee2aa2b1e681a3a133   \n",
       "13       0xd295879063be7a6c49f7327afaa831a4f3f64882   \n",
       "18       0xceb88607e6645839e64e20c99d19622a9e516af1   \n",
       "...                                             ...   \n",
       "5170744  0xd5fbda4c79f38920159fe5f22df9655fde292d47   \n",
       "5170776  0x3d1d8a1d418220fd53c18744d44c182c46f47468   \n",
       "5170804  0x734ebece6d698a50cf90ac9bf15e3f16dc34a204   \n",
       "5170822  0x87cbc48075d7aa1760ac71c41e8bc289b6a31f56   \n",
       "5170844  0x22f6cc8738308a8c92a6a71ea67832463d1fec0d   \n",
       "\n",
       "                                         to_address               value  \\\n",
       "0        0xdac17f958d2ee523a2206206994597c13d831ec7                   0   \n",
       "11       0xdac17f958d2ee523a2206206994597c13d831ec7                   0   \n",
       "12       0xa0b86991c6218b36c1d19d4a2e9eb0ce3606eb48                   0   \n",
       "13       0x4cb18386e5d1f34dc6eea834bf3534a970a3f8e7               19975   \n",
       "18       0xcb2411c2b914b000ad13c86027222a797983ef2d  690000000000000000   \n",
       "...                                             ...                 ...   \n",
       "5170744  0xdac17f958d2ee523a2206206994597c13d831ec7                   0   \n",
       "5170776  0xdac17f958d2ee523a2206206994597c13d831ec7                   0   \n",
       "5170804  0x87dcb78443f9814e300f5dafe8eaf46a34832742   99900000000000000   \n",
       "5170822  0xdac17f958d2ee523a2206206994597c13d831ec7                   0   \n",
       "5170844  0xdac17f958d2ee523a2206206994597c13d831ec7                   0   \n",
       "\n",
       "             value_lossless     gas      gas_price  max_fee_per_gas  \\\n",
       "0                         0   50719    52259603355     5.860330e+10   \n",
       "11                        0  100000    51801032875     1.410000e+11   \n",
       "12                        0   79396    48671975266     9.383105e+10   \n",
       "13                    19975  900000    48310344196     7.616762e+10   \n",
       "18       690000000000000000  236501  1982410147879     1.982410e+12   \n",
       "...                     ...     ...            ...              ...   \n",
       "5170744                   0   46121    47359353513     1.034674e+11   \n",
       "5170776                   0  120000    36775156081     5.529981e+10   \n",
       "5170804   99900000000000000  168372    30805533615     6.528774e+10   \n",
       "5170822                   0  120000    60173862573     1.000000e+12   \n",
       "5170844                   0  120000    21822468908     4.866871e+10   \n",
       "\n",
       "         max_priority_fee_per_gas  transaction_type  \n",
       "0                    1.510000e+09                 2  \n",
       "11                   1.364896e+09                 2  \n",
       "12                   1.340444e+09                 2  \n",
       "13                   2.001950e+09                 2  \n",
       "18                   1.797409e+12                 2  \n",
       "...                           ...               ...  \n",
       "5170744              2.500000e+09                 2  \n",
       "5170776              2.500000e+09                 2  \n",
       "5170804              2.500000e+09                 2  \n",
       "5170822              2.500000e+09                 2  \n",
       "5170844              2.500000e+09                 2  \n",
       "\n",
       "[844055 rows x 12 columns]"
      ]
     },
     "execution_count": 22,
     "metadata": {},
     "output_type": "execute_result"
    }
   ],
   "source": [
    "filtered"
   ]
  },
  {
   "cell_type": "code",
   "execution_count": 23,
   "id": "80325de1",
   "metadata": {},
   "outputs": [],
   "source": [
    "from tqdm import tqdm\n",
    "tqdm.pandas()"
   ]
  },
  {
   "cell_type": "code",
   "execution_count": 24,
   "id": "d431dc08",
   "metadata": {
    "scrolled": true
   },
   "outputs": [
    {
     "name": "stderr",
     "output_type": "stream",
     "text": [
      "100%|███████████████████████████████████████████████████████████████████████████████████████████████████████████████████████████████████████████████████████████████████| 844055/844055 [00:18<00:00, 46491.84it/s]\n"
     ]
    },
    {
     "data": {
      "text/plain": [
       "0          None\n",
       "11         None\n",
       "12         None\n",
       "13         None\n",
       "18         None\n",
       "           ... \n",
       "5170744    None\n",
       "5170776    None\n",
       "5170804    None\n",
       "5170822    None\n",
       "5170844    None\n",
       "Length: 844055, dtype: object"
      ]
     },
     "execution_count": 24,
     "metadata": {},
     "output_type": "execute_result"
    }
   ],
   "source": [
    "filtered[[\"from_address\", \"to_address\"]].progress_apply(lambda x: armar_grafo(x.from_address, x.to_address, g), axis=1)"
   ]
  },
  {
   "cell_type": "code",
   "execution_count": 25,
   "id": "3a087ca0",
   "metadata": {},
   "outputs": [],
   "source": [
    "nx.write_gexf(g, \"grafo_gephi2.gexf\")"
   ]
  }
 ],
 "metadata": {
  "kernelspec": {
   "display_name": "Python 3 (ipykernel)",
   "language": "python",
   "name": "python3"
  },
  "language_info": {
   "codemirror_mode": {
    "name": "ipython",
    "version": 3
   },
   "file_extension": ".py",
   "mimetype": "text/x-python",
   "name": "python",
   "nbconvert_exporter": "python",
   "pygments_lexer": "ipython3",
   "version": "3.11.4"
  }
 },
 "nbformat": 4,
 "nbformat_minor": 5
}
