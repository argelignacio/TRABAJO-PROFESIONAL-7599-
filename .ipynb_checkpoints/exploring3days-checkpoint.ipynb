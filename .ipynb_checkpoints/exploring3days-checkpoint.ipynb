{
 "cells": [
  {
   "cell_type": "code",
   "execution_count": 1,
   "id": "cc39dbd3",
   "metadata": {},
   "outputs": [],
   "source": [
    "import pandas as pd\n"
   ]
  },
  {
   "cell_type": "code",
   "execution_count": 3,
   "id": "85323c2f",
   "metadata": {},
   "outputs": [],
   "source": [
    "data = pd.read_csv(\"3days.csv\")"
   ]
  },
  {
   "cell_type": "code",
   "execution_count": 4,
   "id": "72746490",
   "metadata": {},
   "outputs": [
    {
     "data": {
      "text/plain": [
       "0          None\n",
       "1          None\n",
       "2          None\n",
       "3          None\n",
       "4          None\n",
       "           ... \n",
       "3344353    None\n",
       "3344354    None\n",
       "3344355    None\n",
       "3344356    None\n",
       "3344357    None\n",
       "Length: 3344358, dtype: object"
      ]
     },
     "execution_count": 4,
     "metadata": {},
     "output_type": "execute_result"
    }
   ],
   "source": [
    "addresses = set()\n",
    "(data[[\"from_address\", \"to_address\"]].apply(lambda x: addresses.add(x.from_address) and addresses.add(x.to_address), axis=1))"
   ]
  },
  {
   "cell_type": "code",
   "execution_count": 5,
   "id": "aa1e654d",
   "metadata": {},
   "outputs": [],
   "source": [
    "uniques_address = len(addresses)"
   ]
  },
  {
   "cell_type": "code",
   "execution_count": 6,
   "id": "e802fa32",
   "metadata": {},
   "outputs": [
    {
     "data": {
      "text/plain": [
       "0.47364068081228144"
      ]
     },
     "execution_count": 6,
     "metadata": {},
     "output_type": "execute_result"
    }
   ],
   "source": [
    "uniques_address / 3344358 * 2"
   ]
  },
  {
   "cell_type": "code",
   "execution_count": 7,
   "id": "4afba427",
   "metadata": {},
   "outputs": [],
   "source": [
    "import seaborn as sns"
   ]
  },
  {
   "cell_type": "code",
   "execution_count": 8,
   "id": "1e73eba8",
   "metadata": {},
   "outputs": [
    {
     "data": {
      "text/plain": [
       "Index(['block_timestamp', 'transaction_hash', 'transaction_index', 'nonce',\n",
       "       'from_address', 'to_address', 'value', 'value_lossless', 'gas',\n",
       "       'gas_price', 'max_fee_per_gas', 'max_priority_fee_per_gas',\n",
       "       'transaction_type'],\n",
       "      dtype='object')"
      ]
     },
     "execution_count": 8,
     "metadata": {},
     "output_type": "execute_result"
    }
   ],
   "source": [
    "data.columns"
   ]
  },
  {
   "cell_type": "code",
   "execution_count": 20,
   "id": "bef837ba",
   "metadata": {},
   "outputs": [],
   "source": [
    "senders = data['from_address'].value_counts()\n",
    "receivers = data['to_address'].value_counts()"
   ]
  },
  {
   "cell_type": "code",
   "execution_count": 10,
   "id": "7bfdfe7f",
   "metadata": {},
   "outputs": [
    {
     "data": {
      "text/plain": [
       "0xea674fdde714fd979de3edf0f56aa9716b898ec8    64920\n",
       "0xb5d85cbf7cb3ee0d56b3bb207d5fc4b82f43f511    38995\n",
       "0x3cd751e6b0078be393132286c442345e5dc49699    35953\n",
       "0xddfabcdc4d8ffc6d5beaf154f18b778f892a0740    29659\n",
       "0xeb2629a2734e272bcc07bda959863f316f4bd4cf    27795\n",
       "                                              ...  \n",
       "0x47454f28db34a3a73087e81609deedf8c3172f44        1\n",
       "0xd927f37684a27baa8e42fe206602281f796f8feb        1\n",
       "0xbff9346c0154a5c88413e31ec6cc7c3f9a636647        1\n",
       "0x53dde331ccf1982c25c2810a0081cd78a41e02b1        1\n",
       "0x82b8c30d4c8f643beb70c976d180a5506f9df582        1\n",
       "Name: from_address, Length: 792012, dtype: int64"
      ]
     },
     "execution_count": 10,
     "metadata": {},
     "output_type": "execute_result"
    }
   ],
   "source": [
    "senders"
   ]
  },
  {
   "cell_type": "code",
   "execution_count": 21,
   "id": "a971c107",
   "metadata": {},
   "outputs": [
    {
     "data": {
      "text/plain": [
       "0x283af0b28c62c092c9727f1ee09c02ca627eb7f5    287907\n",
       "0x7f268357a8c2552623316e2562d90e642bb538e5    241310\n",
       "0xdac17f958d2ee523a2206206994597c13d831ec7    185333\n",
       "0x34d85c9cdeb23fa97cb08333b511ac86e1c4e258    125414\n",
       "0x68b3465833fb72a70ecdf485e0e4c7bd8665fc45     96615\n",
       "                                               ...  \n",
       "0x46ffcede20e1783d0138c0eb7224ae5b5fdccf9d         1\n",
       "0x61b641e4fa7bcb18654d721bd2ae4c0e47da2bb1         1\n",
       "0xf0a81a00f536a16b853d49751cd5b28dfede79d8         1\n",
       "0x0c23cc1707ca3d4c306f4420fd89def0ddd54786         1\n",
       "0x933e9e0deceb9eb6dd538532b458e128ffca74e8         1\n",
       "Name: to_address, Length: 719419, dtype: int64"
      ]
     },
     "execution_count": 21,
     "metadata": {},
     "output_type": "execute_result"
    }
   ],
   "source": [
    "receivers"
   ]
  },
  {
   "cell_type": "code",
   "execution_count": 23,
   "id": "dacf360b",
   "metadata": {},
   "outputs": [],
   "source": [
    "senders_dist = senders.value_counts().reset_index()\n",
    "receivers_dist = receivers.value_counts().reset_index()"
   ]
  },
  {
   "cell_type": "code",
   "execution_count": 25,
   "id": "e09c6d3f",
   "metadata": {},
   "outputs": [
    {
     "ename": "NameError",
     "evalue": "name 'unique_address' is not defined",
     "output_type": "error",
     "traceback": [
      "\u001b[0;31m---------------------------------------------------------------------------\u001b[0m",
      "\u001b[0;31mNameError\u001b[0m                                 Traceback (most recent call last)",
      "Cell \u001b[0;32mIn[25], line 2\u001b[0m\n\u001b[1;32m      1\u001b[0m senders_dist[senders_dist\u001b[38;5;241m.\u001b[39mindex \u001b[38;5;241m>\u001b[39m\u001b[38;5;241m=\u001b[39m \u001b[38;5;241m10\u001b[39m]\u001b[38;5;241m.\u001b[39mfrom_address\u001b[38;5;241m.\u001b[39msum() \u001b[38;5;241m/\u001b[39m uniques_address\n\u001b[0;32m----> 2\u001b[0m receivers_dist[receivers_dist\u001b[38;5;241m.\u001b[39mindex \u001b[38;5;241m>\u001b[39m\u001b[38;5;241m=\u001b[39m \u001b[38;5;241m10\u001b[39m]\u001b[38;5;241m.\u001b[39mto_address\u001b[38;5;241m.\u001b[39msum() \u001b[38;5;241m/\u001b[39m unique_address\n",
      "\u001b[0;31mNameError\u001b[0m: name 'unique_address' is not defined"
     ]
    }
   ],
   "source": [
    "senders_dist[senders_dist.index >= 10].from_address.sum() / uniques_address\n",
    "receivers_dist[receivers_dist.index >= 10].to_address.sum() / uniques_address"
   ]
  },
  {
   "cell_type": "code",
   "execution_count": 14,
   "id": "0309bb3a",
   "metadata": {},
   "outputs": [
    {
     "data": {
      "text/plain": [
       "0xca246a06b1bfbd8d0610e1c80e169eb570b50169    15\n",
       "0x02b56b480fd9350fc83dbe2918a76c60232b4001    15\n",
       "0x73c86a9f84b64c91c69c42368967576a67b1a36e    15\n",
       "0x9d5025b327e6b863e5050141c987d988c07fd8b2    15\n",
       "0x1bdb7606fc0008c99dcb2784c41af11fe42e07ba    15\n",
       "                                              ..\n",
       "0x47454f28db34a3a73087e81609deedf8c3172f44     1\n",
       "0xd927f37684a27baa8e42fe206602281f796f8feb     1\n",
       "0xbff9346c0154a5c88413e31ec6cc7c3f9a636647     1\n",
       "0x53dde331ccf1982c25c2810a0081cd78a41e02b1     1\n",
       "0x82b8c30d4c8f643beb70c976d180a5506f9df582     1\n",
       "Name: from_address, Length: 771314, dtype: int64"
      ]
     },
     "execution_count": 14,
     "metadata": {},
     "output_type": "execute_result"
    }
   ],
   "source": [
    "senders[(senders >= 0) & (senders <= 15)]"
   ]
  },
  {
   "cell_type": "code",
   "execution_count": 15,
   "id": "5075cb78",
   "metadata": {},
   "outputs": [
    {
     "data": {
      "text/plain": [
       "<Axes: xlabel='from_address', ylabel='Count'>"
      ]
     },
     "execution_count": 15,
     "metadata": {},
     "output_type": "execute_result"
    },
    {
     "data": {
      "image/png": "[encoded data removed]",
      "text/plain": [
       "<Figure size 640x480 with 1 Axes>"
      ]
     },
     "metadata": {},
     "output_type": "display_data"
    }
   ],
   "source": [
    "sns.histplot(data=senders[(senders >= 0) & (senders <= 30)], discrete=True)"
   ]
  },
  {
   "cell_type": "code",
   "execution_count": 16,
   "id": "02c846fa",
   "metadata": {},
   "outputs": [
    {
     "data": {
      "text/plain": [
       "<Axes: xlabel='from_address', ylabel='Count'>"
      ]
     },
     "execution_count": 16,
     "metadata": {},
     "output_type": "execute_result"
    },
    {
     "data": {
      "image/png": "[encoded data removed]",
      "text/plain": [
       "<Figure size 640x480 with 1 Axes>"
      ]
     },
     "metadata": {},
     "output_type": "display_data"
    }
   ],
   "source": [
    "sns.histplot(data=senders[(senders >= 30) & (senders <= 300)], discrete=True)\n"
   ]
  },
  {
   "cell_type": "code",
   "execution_count": 17,
   "id": "59eaa587",
   "metadata": {},
   "outputs": [],
   "source": [
    "import networkx as nx"
   ]
  },
  {
   "cell_type": "code",
   "execution_count": 18,
   "id": "ebc8e24d",
   "metadata": {},
   "outputs": [],
   "source": [
    "g=nx.Graph()"
   ]
  },
  {
   "cell_type": "code",
   "execution_count": 19,
   "id": "6815dda1",
   "metadata": {},
   "outputs": [],
   "source": [
    "def armar_grafo(frm, to, g):\n",
    "    g.add_node(frm)\n",
    "    g.add_node(to)\n",
    "    g.add_edge(frm, to)"
   ]
  },
  {
   "cell_type": "code",
   "execution_count": 73,
   "id": "2b460c15",
   "metadata": {},
   "outputs": [],
   "source": [
    "enviados_mas5=set(senders[senders > 5].index)\n",
    "recibidos_mas5 = set()"
   ]
  },
  {
   "cell_type": "code",
   "execution_count": 74,
   "id": "5db11f14",
   "metadata": {},
   "outputs": [],
   "source": [
    "filtred = data[data.from_address.isin(mas5)]"
   ]
  },
  {
   "cell_type": "code",
   "execution_count": 78,
   "id": "80325de1",
   "metadata": {},
   "outputs": [],
   "source": [
    "from tqdm import tqdm\n",
    "tqdm.pandas()"
   ]
  },
  {
   "cell_type": "code",
   "execution_count": 79,
   "id": "d431dc08",
   "metadata": {
    "collapsed": true
   },
   "outputs": [
    {
     "name": "stderr",
     "output_type": "stream",
     "text": [
      "100%|███████████████████████████████████████████████████████████████████████████████████████████████████████████████████████████| 2148327/2148327 [01:24<00:00, 25367.73it/s]\n"
     ]
    },
    {
     "data": {
      "text/plain": [
       "1          None\n",
       "2          None\n",
       "3          None\n",
       "6          None\n",
       "8          None\n",
       "           ... \n",
       "3344342    None\n",
       "3344344    None\n",
       "3344346    None\n",
       "3344349    None\n",
       "3344351    None\n",
       "Length: 2148327, dtype: object"
      ]
     },
     "execution_count": 79,
     "metadata": {},
     "output_type": "execute_result"
    }
   ],
   "source": [
    "filtred[[\"from_address\", \"to_address\"]].progress_apply(lambda x: armar_grafo(x.from_address, x.to_address,g ), axis=1)"
   ]
  },
  {
   "cell_type": "code",
   "execution_count": 81,
   "id": "5d30d7c5",
   "metadata": {
    "collapsed": true
   },
   "outputs": [
    {
     "ename": "KeyboardInterrupt",
     "evalue": "",
     "output_type": "error",
     "traceback": [
      "\u001b[0;31m---------------------------------------------------------------------------\u001b[0m",
      "\u001b[0;31mKeyboardInterrupt\u001b[0m                         Traceback (most recent call last)",
      "Cell \u001b[0;32mIn [81], line 1\u001b[0m\n\u001b[0;32m----> 1\u001b[0m pos \u001b[38;5;241m=\u001b[39m \u001b[43mnx\u001b[49m\u001b[38;5;241;43m.\u001b[39;49m\u001b[43mspring_layout\u001b[49m\u001b[43m(\u001b[49m\u001b[43mg\u001b[49m\u001b[43m)\u001b[49m\n\u001b[1;32m      3\u001b[0m node_size \u001b[38;5;241m=\u001b[39m \u001b[38;5;241m5\u001b[39m  \u001b[38;5;66;03m# Tamaño de los nodos\u001b[39;00m\n\u001b[1;32m      4\u001b[0m node_color \u001b[38;5;241m=\u001b[39m \u001b[38;5;124m'\u001b[39m\u001b[38;5;124mb\u001b[39m\u001b[38;5;124m'\u001b[39m  \u001b[38;5;66;03m# Color de los nodos\u001b[39;00m\n",
      "File \u001b[0;32m~/miniconda3/lib/python3.9/site-packages/networkx/utils/decorators.py:845\u001b[0m, in \u001b[0;36margmap.__call__.<locals>.func\u001b[0;34m(_argmap__wrapper, *args, **kwargs)\u001b[0m\n\u001b[1;32m    844\u001b[0m \u001b[38;5;28;01mdef\u001b[39;00m \u001b[38;5;21mfunc\u001b[39m(\u001b[38;5;241m*\u001b[39margs, __wrapper\u001b[38;5;241m=\u001b[39m\u001b[38;5;28;01mNone\u001b[39;00m, \u001b[38;5;241m*\u001b[39m\u001b[38;5;241m*\u001b[39mkwargs):\n\u001b[0;32m--> 845\u001b[0m     \u001b[38;5;28;01mreturn\u001b[39;00m \u001b[43margmap\u001b[49m\u001b[38;5;241;43m.\u001b[39;49m\u001b[43m_lazy_compile\u001b[49m\u001b[43m(\u001b[49m\u001b[43m__wrapper\u001b[49m\u001b[43m)\u001b[49m\u001b[43m(\u001b[49m\u001b[38;5;241;43m*\u001b[39;49m\u001b[43margs\u001b[49m\u001b[43m,\u001b[49m\u001b[43m \u001b[49m\u001b[38;5;241;43m*\u001b[39;49m\u001b[38;5;241;43m*\u001b[39;49m\u001b[43mkwargs\u001b[49m\u001b[43m)\u001b[49m\n",
      "File \u001b[0;32m<class 'networkx.utils.decorators.argmap'> compilation 4:4\u001b[0m, in \u001b[0;36margmap_spring_layout_1\u001b[0;34m(G, k, pos, fixed, iterations, threshold, weight, scale, center, dim, seed)\u001b[0m\n\u001b[1;32m      2\u001b[0m \u001b[38;5;28;01mimport\u001b[39;00m \u001b[38;5;21;01mcollections\u001b[39;00m\n\u001b[1;32m      3\u001b[0m \u001b[38;5;28;01mimport\u001b[39;00m \u001b[38;5;21;01mgzip\u001b[39;00m\n\u001b[0;32m----> 4\u001b[0m \u001b[38;5;28;01mimport\u001b[39;00m \u001b[38;5;21;01minspect\u001b[39;00m\n\u001b[1;32m      5\u001b[0m \u001b[38;5;28;01mimport\u001b[39;00m \u001b[38;5;21;01mitertools\u001b[39;00m\n\u001b[1;32m      6\u001b[0m \u001b[38;5;28;01mimport\u001b[39;00m \u001b[38;5;21;01mre\u001b[39;00m\n",
      "File \u001b[0;32m~/miniconda3/lib/python3.9/site-packages/networkx/drawing/layout.py:481\u001b[0m, in \u001b[0;36mspring_layout\u001b[0;34m(G, k, pos, fixed, iterations, threshold, weight, scale, center, dim, seed)\u001b[0m\n\u001b[1;32m    479\u001b[0m         nnodes, _ \u001b[38;5;241m=\u001b[39m A\u001b[38;5;241m.\u001b[39mshape\n\u001b[1;32m    480\u001b[0m         k \u001b[38;5;241m=\u001b[39m dom_size \u001b[38;5;241m/\u001b[39m np\u001b[38;5;241m.\u001b[39msqrt(nnodes)\n\u001b[0;32m--> 481\u001b[0m     pos \u001b[38;5;241m=\u001b[39m \u001b[43m_sparse_fruchterman_reingold\u001b[49m\u001b[43m(\u001b[49m\n\u001b[1;32m    482\u001b[0m \u001b[43m        \u001b[49m\u001b[43mA\u001b[49m\u001b[43m,\u001b[49m\u001b[43m \u001b[49m\u001b[43mk\u001b[49m\u001b[43m,\u001b[49m\u001b[43m \u001b[49m\u001b[43mpos_arr\u001b[49m\u001b[43m,\u001b[49m\u001b[43m \u001b[49m\u001b[43mfixed\u001b[49m\u001b[43m,\u001b[49m\u001b[43m \u001b[49m\u001b[43miterations\u001b[49m\u001b[43m,\u001b[49m\u001b[43m \u001b[49m\u001b[43mthreshold\u001b[49m\u001b[43m,\u001b[49m\u001b[43m \u001b[49m\u001b[43mdim\u001b[49m\u001b[43m,\u001b[49m\u001b[43m \u001b[49m\u001b[43mseed\u001b[49m\n\u001b[1;32m    483\u001b[0m \u001b[43m    \u001b[49m\u001b[43m)\u001b[49m\n\u001b[1;32m    484\u001b[0m \u001b[38;5;28;01mexcept\u001b[39;00m \u001b[38;5;167;01mValueError\u001b[39;00m:\n\u001b[1;32m    485\u001b[0m     A \u001b[38;5;241m=\u001b[39m nx\u001b[38;5;241m.\u001b[39mto_numpy_array(G, weight\u001b[38;5;241m=\u001b[39mweight)\n",
      "File \u001b[0;32m~/miniconda3/lib/python3.9/site-packages/networkx/utils/decorators.py:845\u001b[0m, in \u001b[0;36margmap.__call__.<locals>.func\u001b[0;34m(_argmap__wrapper, *args, **kwargs)\u001b[0m\n\u001b[1;32m    844\u001b[0m \u001b[38;5;28;01mdef\u001b[39;00m \u001b[38;5;21mfunc\u001b[39m(\u001b[38;5;241m*\u001b[39margs, __wrapper\u001b[38;5;241m=\u001b[39m\u001b[38;5;28;01mNone\u001b[39;00m, \u001b[38;5;241m*\u001b[39m\u001b[38;5;241m*\u001b[39mkwargs):\n\u001b[0;32m--> 845\u001b[0m     \u001b[38;5;28;01mreturn\u001b[39;00m \u001b[43margmap\u001b[49m\u001b[38;5;241;43m.\u001b[39;49m\u001b[43m_lazy_compile\u001b[49m\u001b[43m(\u001b[49m\u001b[43m__wrapper\u001b[49m\u001b[43m)\u001b[49m\u001b[43m(\u001b[49m\u001b[38;5;241;43m*\u001b[39;49m\u001b[43margs\u001b[49m\u001b[43m,\u001b[49m\u001b[43m \u001b[49m\u001b[38;5;241;43m*\u001b[39;49m\u001b[38;5;241;43m*\u001b[39;49m\u001b[43mkwargs\u001b[49m\u001b[43m)\u001b[49m\n",
      "File \u001b[0;32m<class 'networkx.utils.decorators.argmap'> compilation 8:4\u001b[0m, in \u001b[0;36margmap__sparse_fruchterman_reingold_5\u001b[0;34m(A, k, pos, fixed, iterations, threshold, dim, seed)\u001b[0m\n\u001b[1;32m      2\u001b[0m \u001b[38;5;28;01mimport\u001b[39;00m \u001b[38;5;21;01mcollections\u001b[39;00m\n\u001b[1;32m      3\u001b[0m \u001b[38;5;28;01mimport\u001b[39;00m \u001b[38;5;21;01mgzip\u001b[39;00m\n\u001b[0;32m----> 4\u001b[0m \u001b[38;5;28;01mimport\u001b[39;00m \u001b[38;5;21;01minspect\u001b[39;00m\n\u001b[1;32m      5\u001b[0m \u001b[38;5;28;01mimport\u001b[39;00m \u001b[38;5;21;01mitertools\u001b[39;00m\n\u001b[1;32m      6\u001b[0m \u001b[38;5;28;01mimport\u001b[39;00m \u001b[38;5;21;01mre\u001b[39;00m\n",
      "File \u001b[0;32m~/miniconda3/lib/python3.9/site-packages/networkx/drawing/layout.py:615\u001b[0m, in \u001b[0;36m_sparse_fruchterman_reingold\u001b[0;34m(A, k, pos, fixed, iterations, threshold, dim, seed)\u001b[0m\n\u001b[1;32m    613\u001b[0m     \u001b[38;5;28;01mcontinue\u001b[39;00m\n\u001b[1;32m    614\u001b[0m \u001b[38;5;66;03m# difference between this row's node position and all others\u001b[39;00m\n\u001b[0;32m--> 615\u001b[0m delta \u001b[38;5;241m=\u001b[39m (\u001b[43mpos\u001b[49m\u001b[43m[\u001b[49m\u001b[43mi\u001b[49m\u001b[43m]\u001b[49m\u001b[43m \u001b[49m\u001b[38;5;241;43m-\u001b[39;49m\u001b[43m \u001b[49m\u001b[43mpos\u001b[49m)\u001b[38;5;241m.\u001b[39mT\n\u001b[1;32m    616\u001b[0m \u001b[38;5;66;03m# distance between points\u001b[39;00m\n\u001b[1;32m    617\u001b[0m distance \u001b[38;5;241m=\u001b[39m np\u001b[38;5;241m.\u001b[39msqrt((delta\u001b[38;5;241m*\u001b[39m\u001b[38;5;241m*\u001b[39m\u001b[38;5;241m2\u001b[39m)\u001b[38;5;241m.\u001b[39msum(axis\u001b[38;5;241m=\u001b[39m\u001b[38;5;241m0\u001b[39m))\n",
      "\u001b[0;31mKeyboardInterrupt\u001b[0m: "
     ]
    }
   ],
   "source": [
    "pos = nx.spring_layout(g)\n",
    "\n",
    "node_size = 5  # Tamaño de los nodos\n",
    "node_color = 'b'  # Color de los nodos\n",
    "edge_width = 0.1  # Grosor de los enlaces\n",
    "edge_color = 'gray'  # Color de los enlaces\n",
    "\n",
    "# Dibujar el grafo\n",
    "nx.draw(g, pos, node_size=node_size, node_color=node_color, width=edge_width, edge_color=edge_color, with_labels=False)\n",
    "\n",
    "# Mostrar la visualización\n",
    "plt.axis('off')  # Ocultar ejes\n",
    "plt.show()"
   ]
  },
  {
   "cell_type": "code",
   "execution_count": null,
   "id": "bfc15860",
   "metadata": {},
   "outputs": [],
   "source": [
    "import matplotlib.pyplot as plt\n",
    "def save_graph(graph,file_name):\n",
    "    #initialze Figure\n",
    "    plt.figure(num=None, figsize=(20, 20), dpi=80)\n",
    "    plt.axis('off')\n",
    "    fig = plt.figure(1)\n",
    "    pos = nx.spring_layout(graph)\n",
    "    nx.draw_networkx_nodes(graph,pos)\n",
    "    nx.draw_networkx_edges(graph,pos)\n",
    "    nx.draw_networkx_labels(graph,pos)\n",
    "\n",
    "    cut = 1.00\n",
    "    xmax = cut * max(xx for xx, yy in pos.values())\n",
    "    ymax = cut * max(yy for xx, yy in pos.values())\n",
    "    plt.xlim(0, xmax)\n",
    "    plt.ylim(0, ymax)\n",
    "\n",
    "    plt.savefig(file_name,bbox_inches=\"tight\")\n",
    "    pylab.close()\n",
    "    del fig\n",
    "\n",
    "#Assuming that the graph g has nodes and edges entered\n",
    "save_graph(g,\"my_graph.pdf\")"
   ]
  },
  {
   "cell_type": "code",
   "execution_count": null,
   "id": "3a087ca0",
   "metadata": {},
   "outputs": [],
   "source": []
  }
 ],
 "metadata": {
  "kernelspec": {
   "display_name": "Python 3 (ipykernel)",
   "language": "python",
   "name": "python3"
  },
  "language_info": {
   "codemirror_mode": {
    "name": "ipython",
    "version": 3
   },
   "file_extension": ".py",
   "mimetype": "text/x-python",
   "name": "python",
   "nbconvert_exporter": "python",
   "pygments_lexer": "ipython3",
   "version": "3.11.4"
  }
 },
 "nbformat": 4,
 "nbformat_minor": 5
}
